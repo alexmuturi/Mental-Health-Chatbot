{
 "cells": [
  {
   "cell_type": "code",
   "execution_count": 1,
   "metadata": {},
   "outputs": [
    {
     "data": {
      "text/html": [
       "<img src=\"https://www.google.com/url?sa=i&url=https%3A%2F%2Fwww.sprinklr.com%2Fblog%2Fchatbot-examples%2F&psig=AOvVaw3GjLwPVFaNAUG6e4xKJYH2&ust=1705391165437000&source=images&cd=vfe&opi=89978449&ved=0CBMQjRxqFwoTCJDLi8yZ34MDFQAAAAAdAAAAABAI\"/>"
      ],
      "text/plain": [
       "<IPython.core.display.Image object>"
      ]
     },
     "metadata": {},
     "output_type": "display_data"
    }
   ],
   "source": [
    "from IPython.display import Image, display; display(Image(url=\"https://www.google.com/url?sa=i&url=https%3A%2F%2Fwww.sprinklr.com%2Fblog%2Fchatbot-examples%2F&psig=AOvVaw3GjLwPVFaNAUG6e4xKJYH2&ust=1705391165437000&source=images&cd=vfe&opi=89978449&ved=0CBMQjRxqFwoTCJDLi8yZ34MDFQAAAAAdAAAAABAI\"))\n",
    "\n"
   ]
  },
  {
   "cell_type": "markdown",
   "metadata": {},
   "source": [
    "## <div style=\"color:white;display:fill;border-radius:8px;background-color:##800080;font-size:150%; letter-spacing:1.0px\"><p style=\"padding: 15px;color:white;\"><b><b><span style='color:white'><span style='color:#F1A424'> | </span> </span></b>Defining the Question</b></p></div>"
   ]
  },
  {
   "cell_type": "markdown",
   "metadata": {},
   "source": [
    "## <b><span style='color:#F1A424'>|</span> Executive Summary:</b> \n",
    "\n",
    "**Mental health, fundamentally a state of well-being, is crucial for individuals to realize their abilities, manage life's normal stresses, work productively, and contribute to their communities. Despite the rising global prevalence of mental health issues, including a 13% increase over the last decade noted by the WHO, access to effective treatments remains uneven, particularly among urban youths who face distinct challenges and stressors.\n",
    " Saidika, a burgeoning mental health service provider for urban youth, has encountered challenges due to the growing demand for mental health services. The volume of clients has impeded the prompt allocation of therapy resources, particularly for urgent cases, prompting the need for innovative solutions to enhance the efficiency and effectiveness of mental health care delivery. By leveraging the capabilities of AI and advancements in NLP, the project aims to bridge the gap between the growing demand for mental health services and the current limitations in supply and accessibility.**\n"
   ]
  },
  {
   "cell_type": "markdown",
   "metadata": {},
   "source": [
    "## <b><span style='color:#F1A424'>|</span> Problem Statement:</b> \n",
    "\n",
    "**Saidika's platform is currently unable to efficiently handle the increasing influx of clients seeking mental health services. The inability to quickly triage and prioritize client needs is leading to potential delays in addressing urgent cases, which could have severe consequences on the well-being of individuals in need.**\n",
    "**"
   ]
  },
  {
   "cell_type": "markdown",
   "metadata": {},
   "source": [
    "## <b><span style='color:#F1A424'>|</span> Proposed Solution:</b> \n",
    "\n",
    "**Main Objective is to integrate ban advanced AI-powered mental health chatbot into Saidika's existing platform\n",
    "to optimize client management processes, ensuring timely and appropriate allocation of therapy resources to those in need.**\n"
   ]
  },
  {
   "cell_type": "markdown",
   "metadata": {},
   "source": [
    "## <b><span style='color:#F1A424'>|</span>Specific Obectives:</b> \n",
    "- **Client Categorization: To develop a chatbot that can accurately categorize clients based on their responses, distinguishing between varying levels of care requirements and scheduling clients based on their assessed needs and therapists' availability, optimizing the use of Saidika's resources.**\n",
    "- **Urgency Escalation: To ensure the chatbot is capable of rapidly identifying and escalating urgent cases to therapists, facilitating prompt intervention.**\n",
    "- **Service Accessibility: To broaden access to mental health care by providing a 24/7 chatbot service that will offer real-time interaction to clients who require immediate attention or a platform to express their concerns, bridging the gap until a professional is available.**\n",
    "- **Resource Optimization: To aid therapists in managing their workload more effectively by allowing the chatbot to handle routine inquiries and non-urgent interactions.**\n",
    "- **Data Collection and Analysis: To gather and analyze interaction data to continually improve the chatbot’s performance and the platform’s services.**\n",
    "- **User Experience Enhancement: To create a user-friendly chatbot interface that provides a supportive environment for clients to express their concerns.**\n",
    "- **Integration and Compatibility: To seamlessly integrate the chatbot into both web and mobile applications, ensuring functionality across various devices.**\n"
   ]
  },
  {
   "cell_type": "markdown",
   "metadata": {},
   "source": [
    "## <b><span style='color:#F1A424'>|</span> Project Impact:</b> \n",
    "\n",
    "**The successful implementation of the mental health chatbot is expected to significantly improve the scalability of Saidika's services, enabling them to handle a greater volume of clients without sacrificing the quality of care. This technological solution aims to not only streamline operations but also to provide a critical early support system for individuals seeking mental health assistance. The chatbot's ability to analyze data will also furnish Saidika with valuable insights, driving policy and decision-making to better serve the community's mental health needs. Ultimately, the project endeavors to foster a more resilient urban youth population, better equipped to contribute positively to their communities**"
   ]
  },
  {
   "cell_type": "markdown",
   "metadata": {},
   "source": [
    "## DATA PERTINENCE AND ATTRIBUTION"
   ]
  },
  {
   "cell_type": "markdown",
   "metadata": {},
   "source": [
    "\n",
    "**The business aims to gain valuable insights into mental health trends, sentiments, and urgency levels by leveraging a diverse dataset acquired from public domain resources and Saidika's private, anonymized user data with proper consent and privacy law adherence. The data primarily consists of information gathered from health forums, Reddit, a dedicated mental health forum, and Beyond Blue.**\n",
    "\n",
    "**Data Preparation:**\n",
    "\n",
    "**Data Sources: Public domain resources and private Saidika user data.**\n",
    "\n",
    "**Variable Types:**\n",
    "\n",
    "- **Categorical variables: Representing various types of mental health issues.**\n",
    "\n",
    "- **Binary variables: Indicating urgency levels.**\n",
    "- **Continuous variables: Expressing sentiment scores associated with mental health discussions.**\n",
    "\n",
    "**Preprocessing Steps:**\n",
    "\n",
    "- **Text data cleaning: Removal of identifiable information.**\n",
    "\n",
    "- **Tokenization: Breaking down text into tokens.**\n",
    "\n",
    "- **Lemmatization: Reducing words to their base or root form.**\n",
    "\n",
    "- **Vectorization: Converting text into numerical vectors suitable for Natural Language Processing (NLP) tasks.**\n",
    "\n",
    "**Libraries Used:**\n",
    "\n",
    "- **BeautifulSoup: Utilized for parsing and extracting data from HTML content.**\n",
    "\n",
    "- **Python Libraries (NLTK, spaCy): Applied for NLP tasks such as tokenization, lemmatization, and other text processing operations.**\n",
    "\n",
    "**Algorithms:**\n",
    "\n",
    "- **Logistic Regression: Employed for analyzing categorical and binary variables, predicting urgency levels based on mental health issues.**\n",
    "\n",
    "- **LSTM (Long Short-Term Memory): Utilized for sequence modeling in NLP, capturing dependencies in sentiment scores over the course of discussions.**\n",
    "\n",
    "- **BERT (Bidirectional Encoder Representations from Transformers): Implemented for advanced contextualized embeddings, enhancing understanding of the nuanced context within mental health discourse.**\n",
    "\n",
    "- **GPT (Generative Pre-trained Transformer): Employed for generating human-like text responses and comprehending the context of mental health discussions.**\n",
    "\n",
    "**Overall, the objective is to extract meaningful insights, patterns, and correlations from this rich dataset, contributing to a deeper understanding of mental health issues, sentiments, and urgency levels, ultimately informing strategies for better mental health support and intervention.**\n",
    "\n",
    "\n",
    "\n",
    "\n",
    "\n",
    "\n"
   ]
  },
  {
   "cell_type": "markdown",
   "metadata": {},
   "source": [
    "## <div style=\"color:white;display:fill;border-radius:8px;background-color:#800080;font-size:150%; letter-spacing:1.0px\"><p style=\"padding: 12px;color:white;\"><b><b><span style='color:white'><span style='color:#F1A424'>1 |</span></span></b>Data Loading & Preparation</b></p></div>"
   ]
  },
  {
   "cell_type": "markdown",
   "metadata": {},
   "source": [
    "## <b>1.1 <span style='color:#F1A424'>|</span> Importing Necessary Libraries</b> "
   ]
  },
  {
   "cell_type": "code",
   "execution_count": 2,
   "metadata": {},
   "outputs": [],
   "source": [
    "import re\n",
    "import string\n",
    "import numpy as np\n",
    "import random\n",
    "import pandas as pd\n",
    "import matplotlib.pyplot as plt\n",
    "import seaborn as sns  #plotting statistical graphs\n",
    "%matplotlib inline\n",
    "from plotly import graph_objs as go\n",
    "import plotly.express as px\n",
    "import plotly.figure_factory as ff\n",
    "# import squarify\n",
    "from collections import Counter\n",
    "\n",
    "# Load the Text Cleaning Package\n",
    "import neattext.functions as nfx\n",
    "\n",
    "from PIL import Image\n",
    "from wordcloud import WordCloud, STOPWORDS, ImageColorGenerator ##is a data visualization technique used\n",
    "#for representing text data in which the size of each word indicates its frequency\n",
    "\n",
    "from sklearn.linear_model import LogisticRegression\n",
    "from sklearn import metrics\n",
    "from sklearn.metrics import confusion_matrix,roc_auc_score,classification_report\n",
    "from sklearn.compose import ColumnTransformer\n",
    "\n",
    "from sklearn.linear_model import LogisticRegression\n",
    "from sklearn.neighbors import KNeighborsClassifier\n",
    "from sklearn.tree import DecisionTreeClassifier\n",
    "from sklearn.ensemble import RandomForestClassifier,AdaBoostClassifier,GradientBoostingClassifier,ExtraTreesClassifier\n",
    "from sklearn.linear_model import RidgeClassifier,SGDClassifier\n",
    "from sklearn.svm import SVC\n",
    "from sklearn.naive_bayes import MultinomialNB\n",
    "\n",
    "\n",
    "import nltk\n",
    "from nltk.corpus import stopwords\n",
    "\n",
    "from tqdm import tqdm ##new progress bars repeatedly\n",
    "import os\n",
    "import nltk ##building Python programs to work with human language data\n",
    "#import spacy #for training the NER model tokenize words\n",
    "#import random\n",
    "#from spacy.util import compounding\n",
    "#from spacy.util import minibatch\n",
    "\n",
    "\n",
    "pd.set_option('max_colwidth', 400)\n",
    "pd.set_option('use_mathjax', False)\n",
    "\n",
    "\n",
    "import warnings\n",
    "warnings.filterwarnings(\"ignore\")"
   ]
  },
  {
   "cell_type": "markdown",
   "metadata": {},
   "source": [
    "## <b>1.2 <span style='color:#F1A424'>|</span>Loading in our Data</b> "
   ]
  },
  {
   "cell_type": "code",
   "execution_count": 3,
   "metadata": {},
   "outputs": [
    {
     "data": {
      "text/html": [
       "<div>\n",
       "<style scoped>\n",
       "    .dataframe tbody tr th:only-of-type {\n",
       "        vertical-align: middle;\n",
       "    }\n",
       "\n",
       "    .dataframe tbody tr th {\n",
       "        vertical-align: top;\n",
       "    }\n",
       "\n",
       "    .dataframe thead th {\n",
       "        text-align: right;\n",
       "    }\n",
       "</style>\n",
       "<table border=\"1\" class=\"dataframe tex2jax_ignore\">\n",
       "  <thead>\n",
       "    <tr style=\"text-align: right;\">\n",
       "      <th></th>\n",
       "      <th>Subreddit</th>\n",
       "      <th>Reddit Post</th>\n",
       "      <th>Unnamed: 2</th>\n",
       "    </tr>\n",
       "  </thead>\n",
       "  <tbody>\n",
       "    <tr>\n",
       "      <th>0</th>\n",
       "      <td>CPTSD</td>\n",
       "      <td>Feeling like I was made to be unlovable</td>\n",
       "      <td>I don't know if it was the emotional neglect, the psychological abuse, medical abuse, bullying, the CSA, whatever. I'm a mess right now. I feel like a horrible monster that somewhat a lot of people see as attractive, but under the facade I'm still a monster.  As if I was someone who was built for being unlovable and despised, physically and emotionally, since I was born. I keep working and wor...</td>\n",
       "    </tr>\n",
       "    <tr>\n",
       "      <th>1</th>\n",
       "      <td>CPTSD</td>\n",
       "      <td>DAE not know what to do with themselves when they have time?</td>\n",
       "      <td>See title.\\n\\nI used to be the person full of hobbies (biking, drawing, reading, writing, walking, gaming) who really disliked people who never knew what to do with their free time and would be clingy. Now I am one of them.\\n\\nThrough years of hard depression and su.c.dal.ty thanks to cptsd I have stopped all my hobbies. I entrench myself in work and by now also meeting people and sometimes ob...</td>\n",
       "    </tr>\n",
       "    <tr>\n",
       "      <th>2</th>\n",
       "      <td>CPTSD</td>\n",
       "      <td>Yoga triggers me- anyone else?</td>\n",
       "      <td>I was doing yoga for years as a tool to help me back into my body when I was feeling rough as a form of reconnection. I even went as far as becoming trained in teaching, doing a 200hr training. As my trauma symptoms peaked however yoga would actually start having the reverse effect and would dissociate me. (In retrospect I wonder if I was in fact being dissociated the whole time.)\\n\\nStarted a...</td>\n",
       "    </tr>\n",
       "    <tr>\n",
       "      <th>3</th>\n",
       "      <td>CPTSD</td>\n",
       "      <td>Did anyone else have a parent who said - you can make the choice - do you want ho listen to the sweet loving voice of tell it in or should I beat you?</td>\n",
       "      <td>The child me thought I made the right choice by listening to him. And he said as much. That I had finally done something right . Especially when they kept blaming me for all the things I did wrong . Anyone else ?</td>\n",
       "    </tr>\n",
       "    <tr>\n",
       "      <th>4</th>\n",
       "      <td>CPTSD</td>\n",
       "      <td>Women: What is the real situation of misogyny, patriarchy, sexual abuse and harassment in your country?</td>\n",
       "      <td>NaN</td>\n",
       "    </tr>\n",
       "    <tr>\n",
       "      <th>...</th>\n",
       "      <td>...</td>\n",
       "      <td>...</td>\n",
       "      <td>...</td>\n",
       "    </tr>\n",
       "    <tr>\n",
       "      <th>27673</th>\n",
       "      <td>suicidewatch</td>\n",
       "      <td>But I want help doing it Tired of everyone saying no don't.\\n\\n*Get up so I can punch you again*\\n\\nI'm exhausted I want to clock out and be done everything just keeps getting worse, everything keeps losing value including myself- as if any of that even mattered.\\n\\nFuck the helpline I want real help I want help out</td>\n",
       "      <td>NaN</td>\n",
       "    </tr>\n",
       "    <tr>\n",
       "      <th>27674</th>\n",
       "      <td>suicidewatch</td>\n",
       "      <td>Nothing to live for The ONLY reason I am alive right now is because of my sweet cat Pippin. Yesterday was the anniversary of adopting him 2 years ago. \\nI've been really depressed and haven't been able to play with him as much so hes been meowing and being a little naughty as a result. I got so mad yesterday and yelled at him. All I can think about now is how I should give him to someone healt...</td>\n",
       "      <td>NaN</td>\n",
       "    </tr>\n",
       "    <tr>\n",
       "      <th>27675</th>\n",
       "      <td>suicidewatch</td>\n",
       "      <td>Iâ€™m going to fucking kill myself 18 years too long. I think Iâ€™m going to go</td>\n",
       "      <td>NaN</td>\n",
       "    </tr>\n",
       "    <tr>\n",
       "      <th>27676</th>\n",
       "      <td>suicidewatch</td>\n",
       "      <td>Iâ€™m going to pieces All Iâ€™ve done for about a month has been lay in bed. I donâ€™t enjoy anything. Canâ€™t focus on anything. I am terrified of the future. I donâ€™t want to be alive. I am in so much emotional pain. The only reason I am alive is my father because I donâ€™t want to hurt him. That and I canâ€™t decide on a method. I think not wanting to hurt him keeps me from choosing a meth...</td>\n",
       "      <td>NaN</td>\n",
       "    </tr>\n",
       "    <tr>\n",
       "      <th>27677</th>\n",
       "      <td>suicidewatch</td>\n",
       "      <td>sigh it's been a wild couple of weeks...i'm very tired of living and im tired of hearing it gets better. I thought i was finally reaching the point where it got better for me, but it's all coming crashing down. I'm in a very very low point of my life. \\n\\nI feel like the only option to end this suffering is suicide.\\n\\nI don't know why I'm posting this here. Maybe I just want someone to listen...</td>\n",
       "      <td>NaN</td>\n",
       "    </tr>\n",
       "  </tbody>\n",
       "</table>\n",
       "<p>27678 rows × 3 columns</p>\n",
       "</div>"
      ],
      "text/plain": [
       "          Subreddit  \\\n",
       "0             CPTSD   \n",
       "1             CPTSD   \n",
       "2             CPTSD   \n",
       "3             CPTSD   \n",
       "4             CPTSD   \n",
       "...             ...   \n",
       "27673  suicidewatch   \n",
       "27674  suicidewatch   \n",
       "27675  suicidewatch   \n",
       "27676  suicidewatch   \n",
       "27677  suicidewatch   \n",
       "\n",
       "                                                                                                                                                                                                                                                                                                                                                                                                           Reddit Post  \\\n",
       "0                                                                                                                                                                                                                                                                                                                                                                              Feeling like I was made to be unlovable   \n",
       "1                                                                                                                                                                                                                                                                                                                                                         DAE not know what to do with themselves when they have time?   \n",
       "2                                                                                                                                                                                                                                                                                                                                                                                       Yoga triggers me- anyone else?   \n",
       "3                                                                                                                                                                                                                                                               Did anyone else have a parent who said - you can make the choice - do you want ho listen to the sweet loving voice of tell it in or should I beat you?   \n",
       "4                                                                                                                                                                                                                                                                                                              Women: What is the real situation of misogyny, patriarchy, sexual abuse and harassment in your country?   \n",
       "...                                                                                                                                                                                                                                                                                                                                                                                                                ...   \n",
       "27673                                                                                    But I want help doing it Tired of everyone saying no don't.\\n\\n*Get up so I can punch you again*\\n\\nI'm exhausted I want to clock out and be done everything just keeps getting worse, everything keeps losing value including myself- as if any of that even mattered.\\n\\nFuck the helpline I want real help I want help out   \n",
       "27674  Nothing to live for The ONLY reason I am alive right now is because of my sweet cat Pippin. Yesterday was the anniversary of adopting him 2 years ago. \\nI've been really depressed and haven't been able to play with him as much so hes been meowing and being a little naughty as a result. I got so mad yesterday and yelled at him. All I can think about now is how I should give him to someone healt...   \n",
       "27675                                                                                                                                                                                                                                                                                                                                  Iâ€™m going to fucking kill myself 18 years too long. I think Iâ€™m going to go   \n",
       "27676  Iâ€™m going to pieces All Iâ€™ve done for about a month has been lay in bed. I donâ€™t enjoy anything. Canâ€™t focus on anything. I am terrified of the future. I donâ€™t want to be alive. I am in so much emotional pain. The only reason I am alive is my father because I donâ€™t want to hurt him. That and I canâ€™t decide on a method. I think not wanting to hurt him keeps me from choosing a meth...   \n",
       "27677  sigh it's been a wild couple of weeks...i'm very tired of living and im tired of hearing it gets better. I thought i was finally reaching the point where it got better for me, but it's all coming crashing down. I'm in a very very low point of my life. \\n\\nI feel like the only option to end this suffering is suicide.\\n\\nI don't know why I'm posting this here. Maybe I just want someone to listen...   \n",
       "\n",
       "                                                                                                                                                                                                                                                                                                                                                                                                            Unnamed: 2  \n",
       "0      I don't know if it was the emotional neglect, the psychological abuse, medical abuse, bullying, the CSA, whatever. I'm a mess right now. I feel like a horrible monster that somewhat a lot of people see as attractive, but under the facade I'm still a monster.  As if I was someone who was built for being unlovable and despised, physically and emotionally, since I was born. I keep working and wor...  \n",
       "1      See title.\\n\\nI used to be the person full of hobbies (biking, drawing, reading, writing, walking, gaming) who really disliked people who never knew what to do with their free time and would be clingy. Now I am one of them.\\n\\nThrough years of hard depression and su.c.dal.ty thanks to cptsd I have stopped all my hobbies. I entrench myself in work and by now also meeting people and sometimes ob...  \n",
       "2      I was doing yoga for years as a tool to help me back into my body when I was feeling rough as a form of reconnection. I even went as far as becoming trained in teaching, doing a 200hr training. As my trauma symptoms peaked however yoga would actually start having the reverse effect and would dissociate me. (In retrospect I wonder if I was in fact being dissociated the whole time.)\\n\\nStarted a...  \n",
       "3                                                                                                                                                                                                 The child me thought I made the right choice by listening to him. And he said as much. That I had finally done something right . Especially when they kept blaming me for all the things I did wrong . Anyone else ?  \n",
       "4                                                                                                                                                                                                                                                                                                                                                                                                                  NaN  \n",
       "...                                                                                                                                                                                                                                                                                                                                                                                                                ...  \n",
       "27673                                                                                                                                                                                                                                                                                                                                                                                                              NaN  \n",
       "27674                                                                                                                                                                                                                                                                                                                                                                                                              NaN  \n",
       "27675                                                                                                                                                                                                                                                                                                                                                                                                              NaN  \n",
       "27676                                                                                                                                                                                                                                                                                                                                                                                                              NaN  \n",
       "27677                                                                                                                                                                                                                                                                                                                                                                                                              NaN  \n",
       "\n",
       "[27678 rows x 3 columns]"
      ]
     },
     "execution_count": 3,
     "metadata": {},
     "output_type": "execute_result"
    }
   ],
   "source": [
    "# load the dataset -> feature extraction -> data visualization -> data cleaning -> train test split\n",
    "# -> model building -> model training -> model evaluation -> model saving -> streamlit application deploy\n",
    "\n",
    "# load the dataset just using specific features\n",
    "df = pd.read_csv('../data/Aggregated_Data_Final.csv')\n",
    "\n",
    "df"
   ]
  },
  {
   "cell_type": "code",
   "execution_count": 4,
   "metadata": {},
   "outputs": [],
   "source": [
    "# Combine the two columns,'Reddit Post','Unnamed: 2' into a new column named \"reddit_post\"\n",
    "df['reddit_post'] = df['Unnamed: 2'].fillna(df['Reddit Post'])\n",
    "\n",
    "# Drop the original columns if needed\n",
    "df.drop(['Reddit Post', 'Unnamed: 2'], axis=1, inplace=True)\n"
   ]
  },
  {
   "cell_type": "code",
   "execution_count": 5,
   "metadata": {},
   "outputs": [
    {
     "data": {
      "text/html": [
       "<div>\n",
       "<style scoped>\n",
       "    .dataframe tbody tr th:only-of-type {\n",
       "        vertical-align: middle;\n",
       "    }\n",
       "\n",
       "    .dataframe tbody tr th {\n",
       "        vertical-align: top;\n",
       "    }\n",
       "\n",
       "    .dataframe thead th {\n",
       "        text-align: right;\n",
       "    }\n",
       "</style>\n",
       "<table border=\"1\" class=\"dataframe tex2jax_ignore\">\n",
       "  <thead>\n",
       "    <tr style=\"text-align: right;\">\n",
       "      <th></th>\n",
       "      <th>Subreddit</th>\n",
       "      <th>reddit_post</th>\n",
       "    </tr>\n",
       "  </thead>\n",
       "  <tbody>\n",
       "    <tr>\n",
       "      <th>0</th>\n",
       "      <td>CPTSD</td>\n",
       "      <td>I don't know if it was the emotional neglect, the psychological abuse, medical abuse, bullying, the CSA, whatever. I'm a mess right now. I feel like a horrible monster that somewhat a lot of people see as attractive, but under the facade I'm still a monster.  As if I was someone who was built for being unlovable and despised, physically and emotionally, since I was born. I keep working and wor...</td>\n",
       "    </tr>\n",
       "    <tr>\n",
       "      <th>1</th>\n",
       "      <td>CPTSD</td>\n",
       "      <td>See title.\\n\\nI used to be the person full of hobbies (biking, drawing, reading, writing, walking, gaming) who really disliked people who never knew what to do with their free time and would be clingy. Now I am one of them.\\n\\nThrough years of hard depression and su.c.dal.ty thanks to cptsd I have stopped all my hobbies. I entrench myself in work and by now also meeting people and sometimes ob...</td>\n",
       "    </tr>\n",
       "    <tr>\n",
       "      <th>2</th>\n",
       "      <td>CPTSD</td>\n",
       "      <td>I was doing yoga for years as a tool to help me back into my body when I was feeling rough as a form of reconnection. I even went as far as becoming trained in teaching, doing a 200hr training. As my trauma symptoms peaked however yoga would actually start having the reverse effect and would dissociate me. (In retrospect I wonder if I was in fact being dissociated the whole time.)\\n\\nStarted a...</td>\n",
       "    </tr>\n",
       "    <tr>\n",
       "      <th>3</th>\n",
       "      <td>CPTSD</td>\n",
       "      <td>The child me thought I made the right choice by listening to him. And he said as much. That I had finally done something right . Especially when they kept blaming me for all the things I did wrong . Anyone else ?</td>\n",
       "    </tr>\n",
       "    <tr>\n",
       "      <th>4</th>\n",
       "      <td>CPTSD</td>\n",
       "      <td>Women: What is the real situation of misogyny, patriarchy, sexual abuse and harassment in your country?</td>\n",
       "    </tr>\n",
       "    <tr>\n",
       "      <th>...</th>\n",
       "      <td>...</td>\n",
       "      <td>...</td>\n",
       "    </tr>\n",
       "    <tr>\n",
       "      <th>27673</th>\n",
       "      <td>suicidewatch</td>\n",
       "      <td>But I want help doing it Tired of everyone saying no don't.\\n\\n*Get up so I can punch you again*\\n\\nI'm exhausted I want to clock out and be done everything just keeps getting worse, everything keeps losing value including myself- as if any of that even mattered.\\n\\nFuck the helpline I want real help I want help out</td>\n",
       "    </tr>\n",
       "    <tr>\n",
       "      <th>27674</th>\n",
       "      <td>suicidewatch</td>\n",
       "      <td>Nothing to live for The ONLY reason I am alive right now is because of my sweet cat Pippin. Yesterday was the anniversary of adopting him 2 years ago. \\nI've been really depressed and haven't been able to play with him as much so hes been meowing and being a little naughty as a result. I got so mad yesterday and yelled at him. All I can think about now is how I should give him to someone healt...</td>\n",
       "    </tr>\n",
       "    <tr>\n",
       "      <th>27675</th>\n",
       "      <td>suicidewatch</td>\n",
       "      <td>Iâ€™m going to fucking kill myself 18 years too long. I think Iâ€™m going to go</td>\n",
       "    </tr>\n",
       "    <tr>\n",
       "      <th>27676</th>\n",
       "      <td>suicidewatch</td>\n",
       "      <td>Iâ€™m going to pieces All Iâ€™ve done for about a month has been lay in bed. I donâ€™t enjoy anything. Canâ€™t focus on anything. I am terrified of the future. I donâ€™t want to be alive. I am in so much emotional pain. The only reason I am alive is my father because I donâ€™t want to hurt him. That and I canâ€™t decide on a method. I think not wanting to hurt him keeps me from choosing a meth...</td>\n",
       "    </tr>\n",
       "    <tr>\n",
       "      <th>27677</th>\n",
       "      <td>suicidewatch</td>\n",
       "      <td>sigh it's been a wild couple of weeks...i'm very tired of living and im tired of hearing it gets better. I thought i was finally reaching the point where it got better for me, but it's all coming crashing down. I'm in a very very low point of my life. \\n\\nI feel like the only option to end this suffering is suicide.\\n\\nI don't know why I'm posting this here. Maybe I just want someone to listen...</td>\n",
       "    </tr>\n",
       "  </tbody>\n",
       "</table>\n",
       "<p>27678 rows × 2 columns</p>\n",
       "</div>"
      ],
      "text/plain": [
       "          Subreddit  \\\n",
       "0             CPTSD   \n",
       "1             CPTSD   \n",
       "2             CPTSD   \n",
       "3             CPTSD   \n",
       "4             CPTSD   \n",
       "...             ...   \n",
       "27673  suicidewatch   \n",
       "27674  suicidewatch   \n",
       "27675  suicidewatch   \n",
       "27676  suicidewatch   \n",
       "27677  suicidewatch   \n",
       "\n",
       "                                                                                                                                                                                                                                                                                                                                                                                                           reddit_post  \n",
       "0      I don't know if it was the emotional neglect, the psychological abuse, medical abuse, bullying, the CSA, whatever. I'm a mess right now. I feel like a horrible monster that somewhat a lot of people see as attractive, but under the facade I'm still a monster.  As if I was someone who was built for being unlovable and despised, physically and emotionally, since I was born. I keep working and wor...  \n",
       "1      See title.\\n\\nI used to be the person full of hobbies (biking, drawing, reading, writing, walking, gaming) who really disliked people who never knew what to do with their free time and would be clingy. Now I am one of them.\\n\\nThrough years of hard depression and su.c.dal.ty thanks to cptsd I have stopped all my hobbies. I entrench myself in work and by now also meeting people and sometimes ob...  \n",
       "2      I was doing yoga for years as a tool to help me back into my body when I was feeling rough as a form of reconnection. I even went as far as becoming trained in teaching, doing a 200hr training. As my trauma symptoms peaked however yoga would actually start having the reverse effect and would dissociate me. (In retrospect I wonder if I was in fact being dissociated the whole time.)\\n\\nStarted a...  \n",
       "3                                                                                                                                                                                                 The child me thought I made the right choice by listening to him. And he said as much. That I had finally done something right . Especially when they kept blaming me for all the things I did wrong . Anyone else ?  \n",
       "4                                                                                                                                                                                                                                                                                                              Women: What is the real situation of misogyny, patriarchy, sexual abuse and harassment in your country?  \n",
       "...                                                                                                                                                                                                                                                                                                                                                                                                                ...  \n",
       "27673                                                                                    But I want help doing it Tired of everyone saying no don't.\\n\\n*Get up so I can punch you again*\\n\\nI'm exhausted I want to clock out and be done everything just keeps getting worse, everything keeps losing value including myself- as if any of that even mattered.\\n\\nFuck the helpline I want real help I want help out  \n",
       "27674  Nothing to live for The ONLY reason I am alive right now is because of my sweet cat Pippin. Yesterday was the anniversary of adopting him 2 years ago. \\nI've been really depressed and haven't been able to play with him as much so hes been meowing and being a little naughty as a result. I got so mad yesterday and yelled at him. All I can think about now is how I should give him to someone healt...  \n",
       "27675                                                                                                                                                                                                                                                                                                                                  Iâ€™m going to fucking kill myself 18 years too long. I think Iâ€™m going to go  \n",
       "27676  Iâ€™m going to pieces All Iâ€™ve done for about a month has been lay in bed. I donâ€™t enjoy anything. Canâ€™t focus on anything. I am terrified of the future. I donâ€™t want to be alive. I am in so much emotional pain. The only reason I am alive is my father because I donâ€™t want to hurt him. That and I canâ€™t decide on a method. I think not wanting to hurt him keeps me from choosing a meth...  \n",
       "27677  sigh it's been a wild couple of weeks...i'm very tired of living and im tired of hearing it gets better. I thought i was finally reaching the point where it got better for me, but it's all coming crashing down. I'm in a very very low point of my life. \\n\\nI feel like the only option to end this suffering is suicide.\\n\\nI don't know why I'm posting this here. Maybe I just want someone to listen...  \n",
       "\n",
       "[27678 rows x 2 columns]"
      ]
     },
     "execution_count": 5,
     "metadata": {},
     "output_type": "execute_result"
    }
   ],
   "source": [
    "df"
   ]
  },
  {
   "cell_type": "code",
   "execution_count": 6,
   "metadata": {},
   "outputs": [
    {
     "name": "stdout",
     "output_type": "stream",
     "text": [
      "<class 'pandas.core.frame.DataFrame'>\n",
      "RangeIndex: 27678 entries, 0 to 27677\n",
      "Data columns (total 2 columns):\n",
      " #   Column       Non-Null Count  Dtype \n",
      "---  ------       --------------  ----- \n",
      " 0   Subreddit    27678 non-null  object\n",
      " 1   reddit_post  27678 non-null  object\n",
      "dtypes: object(2)\n",
      "memory usage: 432.6+ KB\n"
     ]
    }
   ],
   "source": [
    "#summary of our DataFrame\n",
    "df.info()"
   ]
  },
  {
   "cell_type": "markdown",
   "metadata": {},
   "source": [
    "Finding the number of unique classes (subreddits) in our data"
   ]
  },
  {
   "cell_type": "code",
   "execution_count": 7,
   "metadata": {},
   "outputs": [
    {
     "data": {
      "text/plain": [
       "array(['CPTSD', 'diagnosedPTSD', 'alcoholism', 'socialanxiety',\n",
       "       'suicidewatch'], dtype=object)"
      ]
     },
     "execution_count": 7,
     "metadata": {},
     "output_type": "execute_result"
    }
   ],
   "source": [
    "#obtain the unique values in the 'Subreddit' column\n",
    "df.Subreddit.unique()"
   ]
  },
  {
   "cell_type": "markdown",
   "metadata": {},
   "source": [
    "Below, we count the number of characters in each post."
   ]
  },
  {
   "cell_type": "code",
   "execution_count": 8,
   "metadata": {},
   "outputs": [
    {
     "data": {
      "text/plain": [
       "0         443\n",
       "1        1789\n",
       "2         522\n",
       "3         212\n",
       "4         103\n",
       "         ... \n",
       "27673     311\n",
       "27674    1147\n",
       "27675      79\n",
       "27676     607\n",
       "27677     526\n",
       "Name: reddit_post, Length: 27678, dtype: int64"
      ]
     },
     "execution_count": 8,
     "metadata": {},
     "output_type": "execute_result"
    }
   ],
   "source": [
    "#character count of each reddit post\n",
    "df['reddit_post'].apply(str).apply(len)"
   ]
  },
  {
   "cell_type": "markdown",
   "metadata": {},
   "source": [
    "We find the number of null values in each column"
   ]
  },
  {
   "cell_type": "code",
   "execution_count": 9,
   "metadata": {},
   "outputs": [],
   "source": [
    "#df.isna().sum()"
   ]
  },
  {
   "cell_type": "code",
   "execution_count": 10,
   "metadata": {},
   "outputs": [],
   "source": [
    "#drop all NAN values in our dataframe\n",
    "#df.dropna(inplace=True)\n"
   ]
  },
  {
   "cell_type": "code",
   "execution_count": 11,
   "metadata": {},
   "outputs": [],
   "source": [
    "#check the number of null values \n",
    "#df.isna().sum()\n"
   ]
  },
  {
   "cell_type": "markdown",
   "metadata": {},
   "source": [
    "Next, we find the number of words in each post"
   ]
  },
  {
   "cell_type": "code",
   "execution_count": 12,
   "metadata": {},
   "outputs": [
    {
     "data": {
      "text/plain": [
       "0         81\n",
       "1        315\n",
       "2         96\n",
       "3         43\n",
       "4         16\n",
       "        ... \n",
       "27673     56\n",
       "27674    225\n",
       "27675     16\n",
       "27676    125\n",
       "27677     98\n",
       "Name: reddit_post, Length: 27678, dtype: int64"
      ]
     },
     "execution_count": 12,
     "metadata": {},
     "output_type": "execute_result"
    }
   ],
   "source": [
    "#word count in each reddit post\n",
    "df[df['reddit_post'].isna()==False]['reddit_post'].apply(lambda x: len(x.split(\" \")))"
   ]
  },
  {
   "cell_type": "markdown",
   "metadata": {},
   "source": [
    "## <div style=\"color:white;display:fill;border-radius:8px;background-color:#800080;font-size:150%; letter-spacing:1.0px\"><p style=\"padding: 12px;color:white;\"><b><b><span style='color:white'><span style='color:#F1A424'>2 |</span></span></b> Data Quality Checks</b></p></div>\n",
    "   \n",
    "- **Another crucial step in any project involves ensuring the quality of your data. Remember that your model’s performance is directly tied to the data it processes. Therefore, take the time to remove duplicates and handle missing values appropriately.**\n",
    "\n",
    "- **Here we always check for missing values, outliers and remove any unnecessary variables/features/columns. Since we have text data, outliers cannot be checked.**"
   ]
  },
  {
   "cell_type": "markdown",
   "metadata": {},
   "source": [
    "## <b>2.1 <span style='color:#F1A424'>|</span> Checking for NaN Values</b> "
   ]
  },
  {
   "cell_type": "code",
   "execution_count": 13,
   "metadata": {},
   "outputs": [
    {
     "data": {
      "text/plain": [
       "Subreddit      0\n",
       "reddit_post    0\n",
       "dtype: int64"
      ]
     },
     "execution_count": 13,
     "metadata": {},
     "output_type": "execute_result"
    }
   ],
   "source": [
    "#check for the sum NaN values in our dataframe\n",
    "df.isna().sum()"
   ]
  },
  {
   "cell_type": "code",
   "execution_count": 14,
   "metadata": {},
   "outputs": [
    {
     "name": "stdout",
     "output_type": "stream",
     "text": [
      "Subreddit      0\n",
      "reddit_post    0\n",
      "dtype: int64\n",
      "****************************************\n"
     ]
    }
   ],
   "source": [
    "#prints the count of NaN values for each column after dropping NaN values\n",
    "print(df.isna().sum())\n",
    "print(\"*\"*40)"
   ]
  },
  {
   "cell_type": "markdown",
   "metadata": {},
   "source": [
    "**As noted , we have no missing values in our dataframe.**"
   ]
  },
  {
   "cell_type": "markdown",
   "metadata": {},
   "source": [
    "## <b>2.2 <span style='color:#F1A424'>|</span> Checking for Sentence Length Consistency</b> "
   ]
  },
  {
   "cell_type": "code",
   "execution_count": 15,
   "metadata": {},
   "outputs": [
    {
     "data": {
      "text/plain": [
       "0         443\n",
       "1        1789\n",
       "2         522\n",
       "3         212\n",
       "4         103\n",
       "         ... \n",
       "27673     311\n",
       "27674    1147\n",
       "27675      79\n",
       "27676     607\n",
       "27677     526\n",
       "Name: reddit_post, Length: 27678, dtype: int64"
      ]
     },
     "execution_count": 15,
     "metadata": {},
     "output_type": "execute_result"
    }
   ],
   "source": [
    "df['reddit_post'].apply(len)"
   ]
  },
  {
   "cell_type": "markdown",
   "metadata": {},
   "source": [
    "**This can give you an overview of the number of words per tweet. We also notice that some consist of less then five words hence won't be instrumental in constructing our predictive model.**"
   ]
  },
  {
   "cell_type": "code",
   "execution_count": 16,
   "metadata": {},
   "outputs": [
    {
     "data": {
      "text/plain": [
       "(27678, 0)"
      ]
     },
     "execution_count": 16,
     "metadata": {},
     "output_type": "execute_result"
    }
   ],
   "source": [
    "sum(df['reddit_post'].apply(len) > 5) , sum(df['reddit_post'].apply(len) <= 5)"
   ]
  },
  {
   "cell_type": "markdown",
   "metadata": {},
   "source": [
    "**All our posts have words greater than five**"
   ]
  },
  {
   "cell_type": "markdown",
   "metadata": {},
   "source": [
    "## <b>2.3 <span style='color:#F1A424'>|</span> Checking for Duplicates</b> "
   ]
  },
  {
   "cell_type": "code",
   "execution_count": 17,
   "metadata": {},
   "outputs": [
    {
     "name": "stdout",
     "output_type": "stream",
     "text": [
      "12\n",
      "****************************************\n"
     ]
    }
   ],
   "source": [
    "#check and print the number of duplicates\n",
    "print(df.duplicated().sum())\n",
    "print(\"*\"*40)"
   ]
  },
  {
   "cell_type": "markdown",
   "metadata": {},
   "source": [
    "**we notice that we have 12 duplicates.**"
   ]
  },
  {
   "cell_type": "code",
   "execution_count": 18,
   "metadata": {},
   "outputs": [
    {
     "data": {
      "text/html": [
       "<div>\n",
       "<style scoped>\n",
       "    .dataframe tbody tr th:only-of-type {\n",
       "        vertical-align: middle;\n",
       "    }\n",
       "\n",
       "    .dataframe tbody tr th {\n",
       "        vertical-align: top;\n",
       "    }\n",
       "\n",
       "    .dataframe thead th {\n",
       "        text-align: right;\n",
       "    }\n",
       "</style>\n",
       "<table border=\"1\" class=\"dataframe tex2jax_ignore\">\n",
       "  <thead>\n",
       "    <tr style=\"text-align: right;\">\n",
       "      <th></th>\n",
       "      <th>Subreddit</th>\n",
       "      <th>reddit_post</th>\n",
       "    </tr>\n",
       "  </thead>\n",
       "  <tbody>\n",
       "    <tr>\n",
       "      <th>4225</th>\n",
       "      <td>socialanxiety</td>\n",
       "      <td>Am I strange for being aroused by a man's looks? Or does it make me dirty that I like looking at men? Is it common? I ask because Ive been reading a lot on reddit about dating &amp;amp; attraction lately. A lot of men keep telling me that most women are able to be aroused by ugly men so long as those men say &amp;amp; do the right things. I am not this way though. I just like beauty. My question is: i...</td>\n",
       "    </tr>\n",
       "    <tr>\n",
       "      <th>1755</th>\n",
       "      <td>alcoholism</td>\n",
       "      <td>How yâ€™all get so much booze Iâ€™m 17 and working towards it but I always hit a speedbump whether itâ€™s money or finding somewhere to get some I find myself getting high off household appliances whenever I canâ€™t find any and thatâ€™s not good for me so I just want some ideas on finding a steady constant source</td>\n",
       "    </tr>\n",
       "    <tr>\n",
       "      <th>17790</th>\n",
       "      <td>suicidewatch</td>\n",
       "      <td>I need help My grandma says that I have to go to a \"school\" but Im suspicious, I can't find anything about it online and my grandma is being weird about it. I have a feeling they are gonna drive me to a pysch ward as a punishment. They did it before and no one listened to me. I'm almost 100 percent sure that's what they are gonna do, I'm not depressed or anything. I got kicked out of school la...</td>\n",
       "    </tr>\n",
       "    <tr>\n",
       "      <th>17596</th>\n",
       "      <td>suicidewatch</td>\n",
       "      <td>Itâ€™s been a while Itâ€™s been a while since I posted on here but Iâ€™ve been used to keeping my feelings to myself. I guess I just feel alone. One of two friends that I could talk to seriously about depression doesnâ€™t want to speak to me. I feel like my anxiety is getting worse. Breakdowns are more frequent. My parents know about all this but I can tell they want to ignore it. I guess I ju...</td>\n",
       "    </tr>\n",
       "    <tr>\n",
       "      <th>1118</th>\n",
       "      <td>alcoholism</td>\n",
       "      <td>48 hrs sober I don't know how I feel. I mean I guess I feel grateful I'm not hungover and disgusting. \\n\\nI've had a couple spells of sobriety before and I remember the healthy feeling, mostly in my body not my mind. \\n\\nI have things I want to do that I know I will never do if I'm constantly planning for or recovering from drinking so for today I'm gonna keep going.</td>\n",
       "    </tr>\n",
       "    <tr>\n",
       "      <th>832</th>\n",
       "      <td>CPTSD</td>\n",
       "      <td>#NAME?</td>\n",
       "    </tr>\n",
       "    <tr>\n",
       "      <th>14521</th>\n",
       "      <td>suicidewatch</td>\n",
       "      <td>Am I strange for being aroused by a man's looks? Or does it make me dirty that I like looking at men? Is it common? I ask because Ive been reading a lot on reddit about dating &amp;amp; attraction lately. A lot of men keep telling me that most women are able to be aroused by ugly men so long as those men say &amp;amp; do the right things. I am not this way though. I just like beauty. My question is: i...</td>\n",
       "    </tr>\n",
       "    <tr>\n",
       "      <th>1754</th>\n",
       "      <td>alcoholism</td>\n",
       "      <td>How yâ€™all get so much booze Iâ€™m 17 and working towards it but I always hit a speedbump whether itâ€™s money or finding somewhere to get some I find myself getting high off household appliances whenever I canâ€™t find any and thatâ€™s not good for me so I just want some ideas on finding a steady constant source</td>\n",
       "    </tr>\n",
       "    <tr>\n",
       "      <th>6460</th>\n",
       "      <td>suicidewatch</td>\n",
       "      <td>sad new year i went into 2020 completely alone in my room, crying and wanting to die. my boyfriend didnâ€™t help. heâ€™s at a friends house and doesnâ€™t wanna talk to me today.</td>\n",
       "    </tr>\n",
       "    <tr>\n",
       "      <th>4592</th>\n",
       "      <td>socialanxiety</td>\n",
       "      <td>Question about benzodiazepines/social exposure therapy It's been a while since I've seen a doctor about some of my social issues and I wanted some perspective before seeking any specific medication. Have benzodiazepines ever facilitated for you any kind of exposure therapy? Does the ease benzodiazepines bring in social scenarios leave any lasting effects that go beyond the timeframe the drug i...</td>\n",
       "    </tr>\n",
       "  </tbody>\n",
       "</table>\n",
       "</div>"
      ],
      "text/plain": [
       "           Subreddit  \\\n",
       "4225   socialanxiety   \n",
       "1755      alcoholism   \n",
       "17790   suicidewatch   \n",
       "17596   suicidewatch   \n",
       "1118      alcoholism   \n",
       "832            CPTSD   \n",
       "14521   suicidewatch   \n",
       "1754      alcoholism   \n",
       "6460    suicidewatch   \n",
       "4592   socialanxiety   \n",
       "\n",
       "                                                                                                                                                                                                                                                                                                                                                                                                           reddit_post  \n",
       "4225   Am I strange for being aroused by a man's looks? Or does it make me dirty that I like looking at men? Is it common? I ask because Ive been reading a lot on reddit about dating &amp; attraction lately. A lot of men keep telling me that most women are able to be aroused by ugly men so long as those men say &amp; do the right things. I am not this way though. I just like beauty. My question is: i...  \n",
       "1755                                                                                       How yâ€™all get so much booze Iâ€™m 17 and working towards it but I always hit a speedbump whether itâ€™s money or finding somewhere to get some I find myself getting high off household appliances whenever I canâ€™t find any and thatâ€™s not good for me so I just want some ideas on finding a steady constant source  \n",
       "17790  I need help My grandma says that I have to go to a \"school\" but Im suspicious, I can't find anything about it online and my grandma is being weird about it. I have a feeling they are gonna drive me to a pysch ward as a punishment. They did it before and no one listened to me. I'm almost 100 percent sure that's what they are gonna do, I'm not depressed or anything. I got kicked out of school la...  \n",
       "17596  Itâ€™s been a while Itâ€™s been a while since I posted on here but Iâ€™ve been used to keeping my feelings to myself. I guess I just feel alone. One of two friends that I could talk to seriously about depression doesnâ€™t want to speak to me. I feel like my anxiety is getting worse. Breakdowns are more frequent. My parents know about all this but I can tell they want to ignore it. I guess I ju...  \n",
       "1118                                 48 hrs sober I don't know how I feel. I mean I guess I feel grateful I'm not hungover and disgusting. \\n\\nI've had a couple spells of sobriety before and I remember the healthy feeling, mostly in my body not my mind. \\n\\nI have things I want to do that I know I will never do if I'm constantly planning for or recovering from drinking so for today I'm gonna keep going.  \n",
       "832                                                                                                                                                                                                                                                                                                                                                                                                             #NAME?  \n",
       "14521  Am I strange for being aroused by a man's looks? Or does it make me dirty that I like looking at men? Is it common? I ask because Ive been reading a lot on reddit about dating &amp; attraction lately. A lot of men keep telling me that most women are able to be aroused by ugly men so long as those men say &amp; do the right things. I am not this way though. I just like beauty. My question is: i...  \n",
       "1754                                                                                       How yâ€™all get so much booze Iâ€™m 17 and working towards it but I always hit a speedbump whether itâ€™s money or finding somewhere to get some I find myself getting high off household appliances whenever I canâ€™t find any and thatâ€™s not good for me so I just want some ideas on finding a steady constant source  \n",
       "6460                                                                                                                                                                                                                                 sad new year i went into 2020 completely alone in my room, crying and wanting to die. my boyfriend didnâ€™t help. heâ€™s at a friends house and doesnâ€™t wanna talk to me today.  \n",
       "4592   Question about benzodiazepines/social exposure therapy It's been a while since I've seen a doctor about some of my social issues and I wanted some perspective before seeking any specific medication. Have benzodiazepines ever facilitated for you any kind of exposure therapy? Does the ease benzodiazepines bring in social scenarios leave any lasting effects that go beyond the timeframe the drug i...  "
      ]
     },
     "execution_count": 18,
     "metadata": {},
     "output_type": "execute_result"
    }
   ],
   "source": [
    "#checking if the duolicate values are indeed duplicates\n",
    "df[df.duplicated(subset=['reddit_post'],keep=False)].sort_values(by='reddit_post').sample(10)"
   ]
  },
  {
   "cell_type": "code",
   "execution_count": 19,
   "metadata": {},
   "outputs": [
    {
     "name": "stdout",
     "output_type": "stream",
     "text": [
      "0\n",
      "****************************************\n"
     ]
    }
   ],
   "source": [
    "df = df.drop_duplicates()\n",
    "\n",
    "print(df.duplicated().sum())\n",
    "print(\"*\"*40)"
   ]
  },
  {
   "cell_type": "code",
   "execution_count": 20,
   "metadata": {},
   "outputs": [
    {
     "name": "stdout",
     "output_type": "stream",
     "text": [
      "<class 'pandas.core.frame.DataFrame'>\n",
      "Int64Index: 27666 entries, 0 to 27677\n",
      "Data columns (total 2 columns):\n",
      " #   Column       Non-Null Count  Dtype \n",
      "---  ------       --------------  ----- \n",
      " 0   Subreddit    27666 non-null  object\n",
      " 1   reddit_post  27666 non-null  object\n",
      "dtypes: object(2)\n",
      "memory usage: 648.4+ KB\n"
     ]
    }
   ],
   "source": [
    "df.info()"
   ]
  },
  {
   "cell_type": "markdown",
   "metadata": {},
   "source": [
    "## <div style=\"color:white;display:fill;border-radius:8px;background-color:#800080;font-size:150%; letter-spacing:1.0px\"><p style=\"padding: 12px;color:white;\"><b><b><span style='color:white'><span style='color:#F1A424'>3 |</span></span></b> Data Preprocessing</b></p></div>\n",
    "\n",
    "\n"
   ]
  },
  {
   "cell_type": "markdown",
   "metadata": {},
   "source": [
    "## <b>3.1 <span style='color:#F1A424'>|</span> cleaning textual data </b> \n",
    "\n",
    "We will clean and preprocess the textual data in the dataset to enhance its quality and consistency:\n",
    "- Remove unnecessary characters.\n",
    "- Convert text to lowercase for uniformity.\n",
    "- Tokenization: Tokenize the text data to break it into individual words or tokens. This step is crucial for further analysis of the textual content.\n",
    "- Normalization:Apply normalization techniques, such as stemming or lemmatization, to reduce words to their base or root forms. This aids in standardizing the text.\n",
    "- Stop Word Removal:Eliminate common stop words from the text to focus on meaningful content. Stop words often do not contribute significantly to the analysis.\n",
    "- Entity Recognition:Identify and recognize entities within the text. This step is particularly useful when dealing with named entities or specific information entities.\n",
    "- Syntax Parsing:Perform syntax parsing to analyze the grammatical structure of sentences. This can provide insights into relationships between words.\n",
    "- Text Transformation:Implement additional text transformations as needed for your specific analysis or modeling requirements."
   ]
  },
  {
   "cell_type": "markdown",
   "metadata": {},
   "source": [
    "**We will utilize the NeatText Library for text cleaning, a straightforward NLP package designed for cleaning and preprocessing textual data. This library simplifies the process of cleaning unstructured text by handling tasks such as removing special characters and stopwords, thereby reducing noise in the data.**"
   ]
  },
  {
   "cell_type": "code",
   "execution_count": 21,
   "metadata": {},
   "outputs": [
    {
     "data": {
      "text/plain": [
       "['AUTOMATED_READ_INDEX',\n",
       " 'BTC_ADDRESS_REGEX',\n",
       " 'CONTRACTIONS_DICT',\n",
       " 'CURRENCY_REGEX',\n",
       " 'CURRENCY_SYMB_REGEX',\n",
       " 'Callable',\n",
       " 'Counter',\n",
       " 'CreditCard_REGEX',\n",
       " 'DATE_REGEX',\n",
       " 'EMAIL_REGEX',\n",
       " 'EMOJI_REGEX',\n",
       " 'FUNCTORS_WORDLIST',\n",
       " 'HASTAG_REGEX',\n",
       " 'HTML_TAGS_REGEX',\n",
       " 'List',\n",
       " 'MASTERCard_REGEX',\n",
       " 'MD5_SHA_REGEX',\n",
       " 'MOST_COMMON_PUNCT_REGEX',\n",
       " 'NUMBERS_REGEX',\n",
       " 'PHONE_REGEX',\n",
       " 'PUNCT_REGEX',\n",
       " 'PoBOX_REGEX',\n",
       " 'SPECIAL_CHARACTERS_REGEX',\n",
       " 'STOPWORDS',\n",
       " 'STOPWORDS_de',\n",
       " 'STOPWORDS_en',\n",
       " 'STOPWORDS_es',\n",
       " 'STOPWORDS_fr',\n",
       " 'STOPWORDS_ru',\n",
       " 'STOPWORDS_yo',\n",
       " 'STREET_ADDRESS_REGEX',\n",
       " 'TextCleaner',\n",
       " 'TextExtractor',\n",
       " 'TextFrame',\n",
       " 'TextMetrics',\n",
       " 'TextPipeline',\n",
       " 'Tuple',\n",
       " 'URL_PATTERN',\n",
       " 'USER_HANDLES_REGEX',\n",
       " 'VISACard_REGEX',\n",
       " 'ZIP_REGEX',\n",
       " '__builtins__',\n",
       " '__cached__',\n",
       " '__doc__',\n",
       " '__file__',\n",
       " '__loader__',\n",
       " '__name__',\n",
       " '__package__',\n",
       " '__path__',\n",
       " '__spec__',\n",
       " '__version__',\n",
       " 'clean_text',\n",
       " 'defaultdict',\n",
       " 'digit2words',\n",
       " 'emoji_explainer',\n",
       " 'emojify',\n",
       " 'explainer',\n",
       " 'extract_btc_address',\n",
       " 'extract_currencies',\n",
       " 'extract_currency_symbols',\n",
       " 'extract_dates',\n",
       " 'extract_emails',\n",
       " 'extract_emojis',\n",
       " 'extract_hashtags',\n",
       " 'extract_html_tags',\n",
       " 'extract_mastercard_addr',\n",
       " 'extract_md5sha',\n",
       " 'extract_numbers',\n",
       " 'extract_pattern',\n",
       " 'extract_phone_numbers',\n",
       " 'extract_postoffice_box',\n",
       " 'extract_shortwords',\n",
       " 'extract_special_characters',\n",
       " 'extract_stopwords',\n",
       " 'extract_street_address',\n",
       " 'extract_terms_in_bracket',\n",
       " 'extract_urls',\n",
       " 'extract_userhandles',\n",
       " 'extract_visacard_addr',\n",
       " 'fix_contractions',\n",
       " 'functions',\n",
       " 'generate_sentence',\n",
       " 'hamming_distance',\n",
       " 'inverse_df',\n",
       " 'lexical_richness',\n",
       " 'markov_chain',\n",
       " 'math',\n",
       " 'neattext',\n",
       " 'nlargest',\n",
       " 'normalize',\n",
       " 'num2words',\n",
       " 'pattern_data',\n",
       " 'pipeline',\n",
       " 'random',\n",
       " 're',\n",
       " 'read_txt',\n",
       " 'remove_accents',\n",
       " 'remove_bad_quotes',\n",
       " 'remove_btc_address',\n",
       " 'remove_currencies',\n",
       " 'remove_currency_symbols',\n",
       " 'remove_custom_pattern',\n",
       " 'remove_custom_words',\n",
       " 'remove_dates',\n",
       " 'remove_emails',\n",
       " 'remove_emojis',\n",
       " 'remove_hashtags',\n",
       " 'remove_html_tags',\n",
       " 'remove_mastercard_addr',\n",
       " 'remove_md5sha',\n",
       " 'remove_multiple_spaces',\n",
       " 'remove_non_ascii',\n",
       " 'remove_numbers',\n",
       " 'remove_phone_numbers',\n",
       " 'remove_postoffice_box',\n",
       " 'remove_puncts',\n",
       " 'remove_punctuations',\n",
       " 'remove_shortwords',\n",
       " 'remove_special_characters',\n",
       " 'remove_stopwords',\n",
       " 'remove_street_address',\n",
       " 'remove_terms_in_bracket',\n",
       " 'remove_urls',\n",
       " 'remove_userhandles',\n",
       " 'remove_visacard_addr',\n",
       " 'replace_bad_quotes',\n",
       " 'replace_currencies',\n",
       " 'replace_currency_symbols',\n",
       " 'replace_dates',\n",
       " 'replace_emails',\n",
       " 'replace_emojis',\n",
       " 'replace_numbers',\n",
       " 'replace_phone_numbers',\n",
       " 'replace_special_characters',\n",
       " 'replace_term',\n",
       " 'replace_urls',\n",
       " 'string',\n",
       " 'term_freq',\n",
       " 'to_txt',\n",
       " 'unicode_2_emoji',\n",
       " 'unicodedata',\n",
       " 'word_freq',\n",
       " 'word_length_freq']"
      ]
     },
     "execution_count": 21,
     "metadata": {},
     "output_type": "execute_result"
    }
   ],
   "source": [
    "# load the text cleaning packages\n",
    "\n",
    "import neattext as nt\n",
    "import neattext.functions as nfx\n",
    "\n",
    "# Methods and Attributes of the function\n",
    "dir(nt)"
   ]
  },
  {
   "cell_type": "markdown",
   "metadata": {},
   "source": [
    "### <b>3.1.1 <span style='color:#F1A424'>|</span> clean_text function</b> "
   ]
  },
  {
   "cell_type": "code",
   "execution_count": 22,
   "metadata": {},
   "outputs": [
    {
     "data": {
      "text/plain": [
       "0        13.769752\n",
       "1        11.906093\n",
       "2        12.835249\n",
       "3        14.150943\n",
       "4        10.679612\n",
       "           ...    \n",
       "27673    12.540193\n",
       "27674    14.734089\n",
       "27675     8.860759\n",
       "27676    14.332784\n",
       "27677    14.068441\n",
       "Name: reddit_post, Length: 27666, dtype: float64"
      ]
     },
     "execution_count": 22,
     "metadata": {},
     "output_type": "execute_result"
    }
   ],
   "source": [
    "# Noise scan\n",
    "df['reddit_post'].apply(lambda x: nt.TextFrame(x).noise_scan()['text_noise'])"
   ]
  },
  {
   "cell_type": "code",
   "execution_count": 23,
   "metadata": {},
   "outputs": [],
   "source": [
    "# Ensure all entries in reddit_post column are strings\n",
    "df['reddit_post'] = df['reddit_post'].astype(str)\n",
    "\n",
    "# Now apply the clean_text function\n",
    "df['clean_post'] = df['reddit_post'].apply(lambda x: nfx.clean_text(x, puncts=False, stopwords=False))"
   ]
  },
  {
   "cell_type": "code",
   "execution_count": 24,
   "metadata": {},
   "outputs": [
    {
     "data": {
      "text/html": [
       "<div>\n",
       "<style scoped>\n",
       "    .dataframe tbody tr th:only-of-type {\n",
       "        vertical-align: middle;\n",
       "    }\n",
       "\n",
       "    .dataframe tbody tr th {\n",
       "        vertical-align: top;\n",
       "    }\n",
       "\n",
       "    .dataframe thead th {\n",
       "        text-align: right;\n",
       "    }\n",
       "</style>\n",
       "<table border=\"1\" class=\"dataframe tex2jax_ignore\">\n",
       "  <thead>\n",
       "    <tr style=\"text-align: right;\">\n",
       "      <th></th>\n",
       "      <th>Subreddit</th>\n",
       "      <th>reddit_post</th>\n",
       "      <th>clean_post</th>\n",
       "    </tr>\n",
       "  </thead>\n",
       "  <tbody>\n",
       "    <tr>\n",
       "      <th>0</th>\n",
       "      <td>CPTSD</td>\n",
       "      <td>I don't know if it was the emotional neglect, the psychological abuse, medical abuse, bullying, the CSA, whatever. I'm a mess right now. I feel like a horrible monster that somewhat a lot of people see as attractive, but under the facade I'm still a monster.  As if I was someone who was built for being unlovable and despised, physically and emotionally, since I was born. I keep working and wor...</td>\n",
       "      <td>i don't know if it was the emotional neglect, the psychological abuse, medical abuse, bullying, the csa, whatever. i'm a mess right now. i feel like a horrible monster that somewhat a lot of people see as attractive, but under the facade i'm still a monster. as if i was someone who was built for being unlovable and despised, physically and emotionally, since i was born. i keep working and work...</td>\n",
       "    </tr>\n",
       "    <tr>\n",
       "      <th>1</th>\n",
       "      <td>CPTSD</td>\n",
       "      <td>See title.\\n\\nI used to be the person full of hobbies (biking, drawing, reading, writing, walking, gaming) who really disliked people who never knew what to do with their free time and would be clingy. Now I am one of them.\\n\\nThrough years of hard depression and su.c.dal.ty thanks to cptsd I have stopped all my hobbies. I entrench myself in work and by now also meeting people and sometimes ob...</td>\n",
       "      <td>see title. i used to be the person full of hobbies (biking, drawing, reading, writing, walking, gaming) who really disliked people who never knew what to do with their free time and would be clingy. now i am one of them. through years of hard depression and su.c.dal.ty thanks to cptsd i have stopped all my hobbies. i entrench myself in work and by now also meeting people and sometimes obligato...</td>\n",
       "    </tr>\n",
       "    <tr>\n",
       "      <th>2</th>\n",
       "      <td>CPTSD</td>\n",
       "      <td>I was doing yoga for years as a tool to help me back into my body when I was feeling rough as a form of reconnection. I even went as far as becoming trained in teaching, doing a 200hr training. As my trauma symptoms peaked however yoga would actually start having the reverse effect and would dissociate me. (In retrospect I wonder if I was in fact being dissociated the whole time.)\\n\\nStarted a...</td>\n",
       "      <td>i was doing yoga for years as a tool to help me back into my body when i was feeling rough as a form of reconnection. i even went as far as becoming trained in teaching, doing a 200hr training. as my trauma symptoms peaked however yoga would actually start having the reverse effect and would dissociate me. (in retrospect i wonder if i was in fact being dissociated the whole time.) started agai...</td>\n",
       "    </tr>\n",
       "    <tr>\n",
       "      <th>3</th>\n",
       "      <td>CPTSD</td>\n",
       "      <td>The child me thought I made the right choice by listening to him. And he said as much. That I had finally done something right . Especially when they kept blaming me for all the things I did wrong . Anyone else ?</td>\n",
       "      <td>the child me thought i made the right choice by listening to him. and he said as much. that i had finally done something right . especially when they kept blaming me for all the things i did wrong . anyone else ?</td>\n",
       "    </tr>\n",
       "    <tr>\n",
       "      <th>4</th>\n",
       "      <td>CPTSD</td>\n",
       "      <td>Women: What is the real situation of misogyny, patriarchy, sexual abuse and harassment in your country?</td>\n",
       "      <td>women: what is the real situation of misogyny, patriarchy, sexual abuse and harassment in your country?</td>\n",
       "    </tr>\n",
       "    <tr>\n",
       "      <th>...</th>\n",
       "      <td>...</td>\n",
       "      <td>...</td>\n",
       "      <td>...</td>\n",
       "    </tr>\n",
       "    <tr>\n",
       "      <th>27673</th>\n",
       "      <td>suicidewatch</td>\n",
       "      <td>But I want help doing it Tired of everyone saying no don't.\\n\\n*Get up so I can punch you again*\\n\\nI'm exhausted I want to clock out and be done everything just keeps getting worse, everything keeps losing value including myself- as if any of that even mattered.\\n\\nFuck the helpline I want real help I want help out</td>\n",
       "      <td>but i want help doing it tired of everyone saying no don't. *get up so i can punch you again* i'm exhausted i want to clock out and be done everything just keeps getting worse, everything keeps losing value including myself- as if any of that even mattered. fuck the helpline i want real help i want help out</td>\n",
       "    </tr>\n",
       "    <tr>\n",
       "      <th>27674</th>\n",
       "      <td>suicidewatch</td>\n",
       "      <td>Nothing to live for The ONLY reason I am alive right now is because of my sweet cat Pippin. Yesterday was the anniversary of adopting him 2 years ago. \\nI've been really depressed and haven't been able to play with him as much so hes been meowing and being a little naughty as a result. I got so mad yesterday and yelled at him. All I can think about now is how I should give him to someone healt...</td>\n",
       "      <td>nothing to live for the only reason i am alive right now is because of my sweet cat pippin. yesterday was the anniversary of adopting him 2 years ago. i've been really depressed and haven't been able to play with him as much so hes been meowing and being a little naughty as a result. i got so mad yesterday and yelled at him. all i can think about now is how i should give him to someone healthi...</td>\n",
       "    </tr>\n",
       "    <tr>\n",
       "      <th>27675</th>\n",
       "      <td>suicidewatch</td>\n",
       "      <td>Iâ€™m going to fucking kill myself 18 years too long. I think Iâ€™m going to go</td>\n",
       "      <td>iâ€™m going to fucking kill myself 18 years too long. i think iâ€™m going to go</td>\n",
       "    </tr>\n",
       "    <tr>\n",
       "      <th>27676</th>\n",
       "      <td>suicidewatch</td>\n",
       "      <td>Iâ€™m going to pieces All Iâ€™ve done for about a month has been lay in bed. I donâ€™t enjoy anything. Canâ€™t focus on anything. I am terrified of the future. I donâ€™t want to be alive. I am in so much emotional pain. The only reason I am alive is my father because I donâ€™t want to hurt him. That and I canâ€™t decide on a method. I think not wanting to hurt him keeps me from choosing a meth...</td>\n",
       "      <td>iâ€™m going to pieces all iâ€™ve done for about a month has been lay in bed. i donâ€™t enjoy anything. canâ€™t focus on anything. i am terrified of the future. i donâ€™t want to be alive. i am in so much emotional pain. the only reason i am alive is my father because i donâ€™t want to hurt him. that and i canâ€™t decide on a method. i think not wanting to hurt him keeps me from choosing a meth...</td>\n",
       "    </tr>\n",
       "    <tr>\n",
       "      <th>27677</th>\n",
       "      <td>suicidewatch</td>\n",
       "      <td>sigh it's been a wild couple of weeks...i'm very tired of living and im tired of hearing it gets better. I thought i was finally reaching the point where it got better for me, but it's all coming crashing down. I'm in a very very low point of my life. \\n\\nI feel like the only option to end this suffering is suicide.\\n\\nI don't know why I'm posting this here. Maybe I just want someone to listen...</td>\n",
       "      <td>sigh it's been a wild couple of weeks...i'm very tired of living and im tired of hearing it gets better. i thought i was finally reaching the point where it got better for me, but it's all coming crashing down. i'm in a very very low point of my life. i feel like the only option to end this suffering is suicide. i don't know why i'm posting this here. maybe i just want someone to listen....may...</td>\n",
       "    </tr>\n",
       "  </tbody>\n",
       "</table>\n",
       "<p>27666 rows × 3 columns</p>\n",
       "</div>"
      ],
      "text/plain": [
       "          Subreddit  \\\n",
       "0             CPTSD   \n",
       "1             CPTSD   \n",
       "2             CPTSD   \n",
       "3             CPTSD   \n",
       "4             CPTSD   \n",
       "...             ...   \n",
       "27673  suicidewatch   \n",
       "27674  suicidewatch   \n",
       "27675  suicidewatch   \n",
       "27676  suicidewatch   \n",
       "27677  suicidewatch   \n",
       "\n",
       "                                                                                                                                                                                                                                                                                                                                                                                                           reddit_post  \\\n",
       "0      I don't know if it was the emotional neglect, the psychological abuse, medical abuse, bullying, the CSA, whatever. I'm a mess right now. I feel like a horrible monster that somewhat a lot of people see as attractive, but under the facade I'm still a monster.  As if I was someone who was built for being unlovable and despised, physically and emotionally, since I was born. I keep working and wor...   \n",
       "1      See title.\\n\\nI used to be the person full of hobbies (biking, drawing, reading, writing, walking, gaming) who really disliked people who never knew what to do with their free time and would be clingy. Now I am one of them.\\n\\nThrough years of hard depression and su.c.dal.ty thanks to cptsd I have stopped all my hobbies. I entrench myself in work and by now also meeting people and sometimes ob...   \n",
       "2      I was doing yoga for years as a tool to help me back into my body when I was feeling rough as a form of reconnection. I even went as far as becoming trained in teaching, doing a 200hr training. As my trauma symptoms peaked however yoga would actually start having the reverse effect and would dissociate me. (In retrospect I wonder if I was in fact being dissociated the whole time.)\\n\\nStarted a...   \n",
       "3                                                                                                                                                                                                 The child me thought I made the right choice by listening to him. And he said as much. That I had finally done something right . Especially when they kept blaming me for all the things I did wrong . Anyone else ?   \n",
       "4                                                                                                                                                                                                                                                                                                              Women: What is the real situation of misogyny, patriarchy, sexual abuse and harassment in your country?   \n",
       "...                                                                                                                                                                                                                                                                                                                                                                                                                ...   \n",
       "27673                                                                                    But I want help doing it Tired of everyone saying no don't.\\n\\n*Get up so I can punch you again*\\n\\nI'm exhausted I want to clock out and be done everything just keeps getting worse, everything keeps losing value including myself- as if any of that even mattered.\\n\\nFuck the helpline I want real help I want help out   \n",
       "27674  Nothing to live for The ONLY reason I am alive right now is because of my sweet cat Pippin. Yesterday was the anniversary of adopting him 2 years ago. \\nI've been really depressed and haven't been able to play with him as much so hes been meowing and being a little naughty as a result. I got so mad yesterday and yelled at him. All I can think about now is how I should give him to someone healt...   \n",
       "27675                                                                                                                                                                                                                                                                                                                                  Iâ€™m going to fucking kill myself 18 years too long. I think Iâ€™m going to go   \n",
       "27676  Iâ€™m going to pieces All Iâ€™ve done for about a month has been lay in bed. I donâ€™t enjoy anything. Canâ€™t focus on anything. I am terrified of the future. I donâ€™t want to be alive. I am in so much emotional pain. The only reason I am alive is my father because I donâ€™t want to hurt him. That and I canâ€™t decide on a method. I think not wanting to hurt him keeps me from choosing a meth...   \n",
       "27677  sigh it's been a wild couple of weeks...i'm very tired of living and im tired of hearing it gets better. I thought i was finally reaching the point where it got better for me, but it's all coming crashing down. I'm in a very very low point of my life. \\n\\nI feel like the only option to end this suffering is suicide.\\n\\nI don't know why I'm posting this here. Maybe I just want someone to listen...   \n",
       "\n",
       "                                                                                                                                                                                                                                                                                                                                                                                                            clean_post  \n",
       "0      i don't know if it was the emotional neglect, the psychological abuse, medical abuse, bullying, the csa, whatever. i'm a mess right now. i feel like a horrible monster that somewhat a lot of people see as attractive, but under the facade i'm still a monster. as if i was someone who was built for being unlovable and despised, physically and emotionally, since i was born. i keep working and work...  \n",
       "1      see title. i used to be the person full of hobbies (biking, drawing, reading, writing, walking, gaming) who really disliked people who never knew what to do with their free time and would be clingy. now i am one of them. through years of hard depression and su.c.dal.ty thanks to cptsd i have stopped all my hobbies. i entrench myself in work and by now also meeting people and sometimes obligato...  \n",
       "2      i was doing yoga for years as a tool to help me back into my body when i was feeling rough as a form of reconnection. i even went as far as becoming trained in teaching, doing a 200hr training. as my trauma symptoms peaked however yoga would actually start having the reverse effect and would dissociate me. (in retrospect i wonder if i was in fact being dissociated the whole time.) started agai...  \n",
       "3                                                                                                                                                                                                 the child me thought i made the right choice by listening to him. and he said as much. that i had finally done something right . especially when they kept blaming me for all the things i did wrong . anyone else ?  \n",
       "4                                                                                                                                                                                                                                                                                                              women: what is the real situation of misogyny, patriarchy, sexual abuse and harassment in your country?  \n",
       "...                                                                                                                                                                                                                                                                                                                                                                                                                ...  \n",
       "27673                                                                                             but i want help doing it tired of everyone saying no don't. *get up so i can punch you again* i'm exhausted i want to clock out and be done everything just keeps getting worse, everything keeps losing value including myself- as if any of that even mattered. fuck the helpline i want real help i want help out  \n",
       "27674  nothing to live for the only reason i am alive right now is because of my sweet cat pippin. yesterday was the anniversary of adopting him 2 years ago. i've been really depressed and haven't been able to play with him as much so hes been meowing and being a little naughty as a result. i got so mad yesterday and yelled at him. all i can think about now is how i should give him to someone healthi...  \n",
       "27675                                                                                                                                                                                                                                                                                                                                  iâ€™m going to fucking kill myself 18 years too long. i think iâ€™m going to go  \n",
       "27676  iâ€™m going to pieces all iâ€™ve done for about a month has been lay in bed. i donâ€™t enjoy anything. canâ€™t focus on anything. i am terrified of the future. i donâ€™t want to be alive. i am in so much emotional pain. the only reason i am alive is my father because i donâ€™t want to hurt him. that and i canâ€™t decide on a method. i think not wanting to hurt him keeps me from choosing a meth...  \n",
       "27677  sigh it's been a wild couple of weeks...i'm very tired of living and im tired of hearing it gets better. i thought i was finally reaching the point where it got better for me, but it's all coming crashing down. i'm in a very very low point of my life. i feel like the only option to end this suffering is suicide. i don't know why i'm posting this here. maybe i just want someone to listen....may...  \n",
       "\n",
       "[27666 rows x 3 columns]"
      ]
     },
     "execution_count": 24,
     "metadata": {},
     "output_type": "execute_result"
    }
   ],
   "source": [
    "df"
   ]
  },
  {
   "cell_type": "code",
   "execution_count": 25,
   "metadata": {},
   "outputs": [
    {
     "data": {
      "text/html": [
       "<div>\n",
       "<style scoped>\n",
       "    .dataframe tbody tr th:only-of-type {\n",
       "        vertical-align: middle;\n",
       "    }\n",
       "\n",
       "    .dataframe tbody tr th {\n",
       "        vertical-align: top;\n",
       "    }\n",
       "\n",
       "    .dataframe thead th {\n",
       "        text-align: right;\n",
       "    }\n",
       "</style>\n",
       "<table border=\"1\" class=\"dataframe tex2jax_ignore\">\n",
       "  <thead>\n",
       "    <tr style=\"text-align: right;\">\n",
       "      <th></th>\n",
       "      <th>reddit_post</th>\n",
       "      <th>clean_post</th>\n",
       "      <th>urls</th>\n",
       "    </tr>\n",
       "  </thead>\n",
       "  <tbody>\n",
       "    <tr>\n",
       "      <th>2625</th>\n",
       "      <td>I had a panic attack on Christmas Eve and I'm not sure what to do next Hey, like the title says I had a pretty bad panic attack on Christmas Eve... And I've been feeling a lot of mixed emotions for the party week. I think I need some help, but I don't have too much money to spend on a therapist. \\n\\nMaybe I'll give a little backstory. I was at my uncle's place and there's a language barrier fo...</td>\n",
       "      <td>i had a panic attack on christmas eve and i'm not sure what to do next hey, like the title says i had a pretty bad panic attack on christmas eve... and i've been feeling a lot of mixed emotions for the party week. i think i need some help, but i don't have too much money to spend on a therapist. maybe i'll give a little backstory. i was at my uncle's place and there's a language barrier for me...</td>\n",
       "      <td>[]</td>\n",
       "    </tr>\n",
       "    <tr>\n",
       "      <th>6128</th>\n",
       "      <td>How do you put things into perspective with social anxiety? I'm sorry if this is rambly. I'm seeing if this might help me lay out my thoughts a little and maybe get some advice. I'll throw down a tldr at the end :)\\n\\nRight now, I'm coping with multiple flavors of anxiety disorder (hypochondria, dp/dr, agoraphobia) that I feel, to some extent, I've achieved some kind of control over. I'm getti...</td>\n",
       "      <td>how do you put things into perspective with social anxiety? i'm sorry if this is rambly. i'm seeing if this might help me lay out my thoughts a little and maybe get some advice. i'll throw down a tldr at the end :) right now, i'm coping with multiple flavors of anxiety disorder (hypochondria, dp/dr, agoraphobia) that i feel, to some extent, i've achieved some kind of control over. i'm getting ...</td>\n",
       "      <td>[]</td>\n",
       "    </tr>\n",
       "    <tr>\n",
       "      <th>2440</th>\n",
       "      <td>Long-time alcoholic with a question I've been a heavy drinking alcoholic for the better part of 15 years. There have only been two things in those years that have been able to keep me from getting blacked out wasted daily, the gym (former bodybuilder) and work. 4 years ago my brain surgery killed my bodybuilding dream and goals, emptied my bank account and put me in a bad spot. I quit the gym ...</td>\n",
       "      <td>long-time alcoholic with a question i've been a heavy drinking alcoholic for the better part of 15 years. there have only been two things in those years that have been able to keep me from getting blacked out wasted daily, the gym (former bodybuilder) and work. 4 years ago my brain surgery killed my bodybuilding dream and goals, emptied my bank account and put me in a bad spot. i quit the gym ...</td>\n",
       "      <td>[]</td>\n",
       "    </tr>\n",
       "    <tr>\n",
       "      <th>17321</th>\n",
       "      <td>Iâ€™m not going to kill myself yet. But I do think that eventually, I will kill myself. Well, I pretty much know this. For some reason it just seems inevitable. I feel like nobody truly enjoys my presence. I feel like many of my friendships are formed from pity. And I donâ€™t really like many people. Iâ€™m not understood very well. I self deprecate so much I believe all I say. Sometimes i will...</td>\n",
       "      <td>iâ€™m not going to kill myself yet. but i do think that eventually, i will kill myself. well, i pretty much know this. for some reason it just seems inevitable. i feel like nobody truly enjoys my presence. i feel like many of my friendships are formed from pity. and i donâ€™t really like many people. iâ€™m not understood very well. i self deprecate so much i believe all i say. sometimes i will...</td>\n",
       "      <td>[]</td>\n",
       "    </tr>\n",
       "    <tr>\n",
       "      <th>16461</th>\n",
       "      <td>Iâ€™m just over it Iâ€™m so over how everyone doesnâ€™t give a shit anymore. I give my all every damn day just to make others happy, make them laugh, help them with everything. But not one person ever ask how I am doing, cause if they did theyâ€™d know I just want to die. Iâ€™m over the fake laughs and smiles, Iâ€™m over pretending. But Iâ€™m scared. Iâ€™m so fucking scared to leave everything...</td>\n",
       "      <td>iâ€™m just over it iâ€™m so over how everyone doesnâ€™t give a shit anymore. i give my all every damn day just to make others happy, make them laugh, help them with everything. but not one person ever ask how i am doing, cause if they did theyâ€™d know i just want to die. iâ€™m over the fake laughs and smiles, iâ€™m over pretending. but iâ€™m scared. iâ€™m so fucking scared to leave everything...</td>\n",
       "      <td>[]</td>\n",
       "    </tr>\n",
       "  </tbody>\n",
       "</table>\n",
       "</div>"
      ],
      "text/plain": [
       "                                                                                                                                                                                                                                                                                                                                                                                                           reddit_post  \\\n",
       "2625   I had a panic attack on Christmas Eve and I'm not sure what to do next Hey, like the title says I had a pretty bad panic attack on Christmas Eve... And I've been feeling a lot of mixed emotions for the party week. I think I need some help, but I don't have too much money to spend on a therapist. \\n\\nMaybe I'll give a little backstory. I was at my uncle's place and there's a language barrier fo...   \n",
       "6128   How do you put things into perspective with social anxiety? I'm sorry if this is rambly. I'm seeing if this might help me lay out my thoughts a little and maybe get some advice. I'll throw down a tldr at the end :)\\n\\nRight now, I'm coping with multiple flavors of anxiety disorder (hypochondria, dp/dr, agoraphobia) that I feel, to some extent, I've achieved some kind of control over. I'm getti...   \n",
       "2440   Long-time alcoholic with a question I've been a heavy drinking alcoholic for the better part of 15 years. There have only been two things in those years that have been able to keep me from getting blacked out wasted daily, the gym (former bodybuilder) and work. 4 years ago my brain surgery killed my bodybuilding dream and goals, emptied my bank account and put me in a bad spot. I quit the gym ...   \n",
       "17321  Iâ€™m not going to kill myself yet. But I do think that eventually, I will kill myself. Well, I pretty much know this. For some reason it just seems inevitable. I feel like nobody truly enjoys my presence. I feel like many of my friendships are formed from pity. And I donâ€™t really like many people. Iâ€™m not understood very well. I self deprecate so much I believe all I say. Sometimes i will...   \n",
       "16461  Iâ€™m just over it Iâ€™m so over how everyone doesnâ€™t give a shit anymore. I give my all every damn day just to make others happy, make them laugh, help them with everything. But not one person ever ask how I am doing, cause if they did theyâ€™d know I just want to die. Iâ€™m over the fake laughs and smiles, Iâ€™m over pretending. But Iâ€™m scared. Iâ€™m so fucking scared to leave everything...   \n",
       "\n",
       "                                                                                                                                                                                                                                                                                                                                                                                                            clean_post  \\\n",
       "2625   i had a panic attack on christmas eve and i'm not sure what to do next hey, like the title says i had a pretty bad panic attack on christmas eve... and i've been feeling a lot of mixed emotions for the party week. i think i need some help, but i don't have too much money to spend on a therapist. maybe i'll give a little backstory. i was at my uncle's place and there's a language barrier for me...   \n",
       "6128   how do you put things into perspective with social anxiety? i'm sorry if this is rambly. i'm seeing if this might help me lay out my thoughts a little and maybe get some advice. i'll throw down a tldr at the end :) right now, i'm coping with multiple flavors of anxiety disorder (hypochondria, dp/dr, agoraphobia) that i feel, to some extent, i've achieved some kind of control over. i'm getting ...   \n",
       "2440   long-time alcoholic with a question i've been a heavy drinking alcoholic for the better part of 15 years. there have only been two things in those years that have been able to keep me from getting blacked out wasted daily, the gym (former bodybuilder) and work. 4 years ago my brain surgery killed my bodybuilding dream and goals, emptied my bank account and put me in a bad spot. i quit the gym ...   \n",
       "17321  iâ€™m not going to kill myself yet. but i do think that eventually, i will kill myself. well, i pretty much know this. for some reason it just seems inevitable. i feel like nobody truly enjoys my presence. i feel like many of my friendships are formed from pity. and i donâ€™t really like many people. iâ€™m not understood very well. i self deprecate so much i believe all i say. sometimes i will...   \n",
       "16461  iâ€™m just over it iâ€™m so over how everyone doesnâ€™t give a shit anymore. i give my all every damn day just to make others happy, make them laugh, help them with everything. but not one person ever ask how i am doing, cause if they did theyâ€™d know i just want to die. iâ€™m over the fake laughs and smiles, iâ€™m over pretending. but iâ€™m scared. iâ€™m so fucking scared to leave everything...   \n",
       "\n",
       "      urls  \n",
       "2625    []  \n",
       "6128    []  \n",
       "2440    []  \n",
       "17321   []  \n",
       "16461   []  "
      ]
     },
     "execution_count": 25,
     "metadata": {},
     "output_type": "execute_result"
    }
   ],
   "source": [
    "# Extract URLs into another column before removing them\n",
    "# If we were to remove the URLs after remove the special characters e.g '//' the function would be ubable to detect the URLs\n",
    "df['urls'] = df['clean_post'].apply(nfx.extract_urls)\n",
    "\n",
    "df[['reddit_post', 'clean_post', 'urls']].sample(5)"
   ]
  },
  {
   "cell_type": "markdown",
   "metadata": {},
   "source": [
    "### <b>3.1.4 <span style='color:#F1A424'>|</span> Special Characters</b> "
   ]
  },
  {
   "cell_type": "code",
   "execution_count": 26,
   "metadata": {},
   "outputs": [
    {
     "data": {
      "text/html": [
       "<div>\n",
       "<style scoped>\n",
       "    .dataframe tbody tr th:only-of-type {\n",
       "        vertical-align: middle;\n",
       "    }\n",
       "\n",
       "    .dataframe tbody tr th {\n",
       "        vertical-align: top;\n",
       "    }\n",
       "\n",
       "    .dataframe thead th {\n",
       "        text-align: right;\n",
       "    }\n",
       "</style>\n",
       "<table border=\"1\" class=\"dataframe tex2jax_ignore\">\n",
       "  <thead>\n",
       "    <tr style=\"text-align: right;\">\n",
       "      <th></th>\n",
       "      <th>reddit_post</th>\n",
       "      <th>clean_post</th>\n",
       "    </tr>\n",
       "  </thead>\n",
       "  <tbody>\n",
       "    <tr>\n",
       "      <th>25656</th>\n",
       "      <td>I don't know what to do I hurt someone I have affected a person for life someone that I cared about I hurt them in such a way that I can never be forgiven I don't see the point anymore in living I don't know what I'm going to do I don't know how long I can keep this shit up soon I just hope that it's quick or at least painless</td>\n",
       "      <td>i dont know what to do i hurt someone i have affected a person for life someone that i cared about i hurt them in such a way that i can never be forgiven i dont see the point anymore in living i dont know what im going to do i dont know how long i can keep this shit up soon i just hope that its quick or at least painless</td>\n",
       "    </tr>\n",
       "    <tr>\n",
       "      <th>19188</th>\n",
       "      <td>Bipolar type I, can't stop doing and selling drugs. going to end it next month Ever since I was 6, I wanted to kill myself. I'm muslim, so suicide's something never to be considered nor talked about, to anyone, even a fucking therapist for fuck's sake... I have been dealing with alot lately, what with my wife running away with my 1 1/2 yo daughter, my drug abuse, my buying and selling drugs an...</td>\n",
       "      <td>bipolar type i cant stop doing and selling drugs going to end it next month ever since i was 6 i wanted to kill myself im muslim so suicides something never to be considered nor talked about to anyone even a fucking therapist for fucks sake i have been dealing with alot lately what with my wife running away with my 1 12 yo daughter my drug abuse my buying and selling drugs and cheap cigarettes...</td>\n",
       "    </tr>\n",
       "    <tr>\n",
       "      <th>10476</th>\n",
       "      <td>fml I moved to a new state and I hate it. I miss my old friends and I miss my old school, I wish I could time travel and tell my parents absolutely not when they suggested moving. it's super expensive, so the chances of moving back are unlikely. i've always had more humor-based friendships so I don't know how to bring up how I feel. I feel like I desperately need to talk to them but I also don...</td>\n",
       "      <td>fml i moved to a new state and i hate it i miss my old friends and i miss my old school i wish i could time travel and tell my parents absolutely not when they suggested moving its super expensive so the chances of moving back are unlikely ive always had more humorbased friendships so i dont know how to bring up how i feel i feel like i desperately need to talk to them but i also dont want the...</td>\n",
       "    </tr>\n",
       "    <tr>\n",
       "      <th>8802</th>\n",
       "      <td>I am just going to kill myself. Thats pretty much it.</td>\n",
       "      <td>i am just going to kill myself thats pretty much it</td>\n",
       "    </tr>\n",
       "    <tr>\n",
       "      <th>12511</th>\n",
       "      <td>Bit confused with how I am feeling \\n\\nHello, so I have been pondering with the idea for the past few weeks, and today I was supposed to see my Gp, I was awake and ready to leave and just ended up sitting on my bed and did not attend it. So tonight I have been preparing to kill myself. And have been on some sort of buzz of it, like hyper excited/happy about it, I'm aware I'm being somewhat odd...</td>\n",
       "      <td>bit confused with how i am feeling hello so i have been pondering with the idea for the past few weeks and today i was supposed to see my gp i was awake and ready to leave and just ended up sitting on my bed and did not attend it so tonight i have been preparing to kill myself and have been on some sort of buzz of it like hyper excitedhappy about it im aware im being somewhat odd with how i am...</td>\n",
       "    </tr>\n",
       "  </tbody>\n",
       "</table>\n",
       "</div>"
      ],
      "text/plain": [
       "                                                                                                                                                                                                                                                                                                                                                                                                           reddit_post  \\\n",
       "25656                                                                         I don't know what to do I hurt someone I have affected a person for life someone that I cared about I hurt them in such a way that I can never be forgiven I don't see the point anymore in living I don't know what I'm going to do I don't know how long I can keep this shit up soon I just hope that it's quick or at least painless   \n",
       "19188  Bipolar type I, can't stop doing and selling drugs. going to end it next month Ever since I was 6, I wanted to kill myself. I'm muslim, so suicide's something never to be considered nor talked about, to anyone, even a fucking therapist for fuck's sake... I have been dealing with alot lately, what with my wife running away with my 1 1/2 yo daughter, my drug abuse, my buying and selling drugs an...   \n",
       "10476  fml I moved to a new state and I hate it. I miss my old friends and I miss my old school, I wish I could time travel and tell my parents absolutely not when they suggested moving. it's super expensive, so the chances of moving back are unlikely. i've always had more humor-based friendships so I don't know how to bring up how I feel. I feel like I desperately need to talk to them but I also don...   \n",
       "8802                                                                                                                                                                                                                                                                                                                                                             I am just going to kill myself. Thats pretty much it.   \n",
       "12511  Bit confused with how I am feeling \\n\\nHello, so I have been pondering with the idea for the past few weeks, and today I was supposed to see my Gp, I was awake and ready to leave and just ended up sitting on my bed and did not attend it. So tonight I have been preparing to kill myself. And have been on some sort of buzz of it, like hyper excited/happy about it, I'm aware I'm being somewhat odd...   \n",
       "\n",
       "                                                                                                                                                                                                                                                                                                                                                                                                            clean_post  \n",
       "25656                                                                               i dont know what to do i hurt someone i have affected a person for life someone that i cared about i hurt them in such a way that i can never be forgiven i dont see the point anymore in living i dont know what im going to do i dont know how long i can keep this shit up soon i just hope that its quick or at least painless  \n",
       "19188  bipolar type i cant stop doing and selling drugs going to end it next month ever since i was 6 i wanted to kill myself im muslim so suicides something never to be considered nor talked about to anyone even a fucking therapist for fucks sake i have been dealing with alot lately what with my wife running away with my 1 12 yo daughter my drug abuse my buying and selling drugs and cheap cigarettes...  \n",
       "10476  fml i moved to a new state and i hate it i miss my old friends and i miss my old school i wish i could time travel and tell my parents absolutely not when they suggested moving its super expensive so the chances of moving back are unlikely ive always had more humorbased friendships so i dont know how to bring up how i feel i feel like i desperately need to talk to them but i also dont want the...  \n",
       "8802                                                                                                                                                                                                                                                                                                                                                               i am just going to kill myself thats pretty much it  \n",
       "12511  bit confused with how i am feeling hello so i have been pondering with the idea for the past few weeks and today i was supposed to see my gp i was awake and ready to leave and just ended up sitting on my bed and did not attend it so tonight i have been preparing to kill myself and have been on some sort of buzz of it like hyper excitedhappy about it im aware im being somewhat odd with how i am...  "
      ]
     },
     "execution_count": 26,
     "metadata": {},
     "output_type": "execute_result"
    }
   ],
   "source": [
    "# Remove special characters\n",
    "\n",
    "df['clean_post'] = df['clean_post'].apply(nfx.remove_special_characters)\n",
    "\n",
    "df[['reddit_post', 'clean_post']].sample(5)"
   ]
  },
  {
   "cell_type": "markdown",
   "metadata": {},
   "source": [
    "### <b>3.1.5 <span style='color:#F1A424'>|</span> Multiple Whitespaces</b> "
   ]
  },
  {
   "cell_type": "code",
   "execution_count": 27,
   "metadata": {},
   "outputs": [
    {
     "data": {
      "text/html": [
       "<div>\n",
       "<style scoped>\n",
       "    .dataframe tbody tr th:only-of-type {\n",
       "        vertical-align: middle;\n",
       "    }\n",
       "\n",
       "    .dataframe tbody tr th {\n",
       "        vertical-align: top;\n",
       "    }\n",
       "\n",
       "    .dataframe thead th {\n",
       "        text-align: right;\n",
       "    }\n",
       "</style>\n",
       "<table border=\"1\" class=\"dataframe tex2jax_ignore\">\n",
       "  <thead>\n",
       "    <tr style=\"text-align: right;\">\n",
       "      <th></th>\n",
       "      <th>reddit_post</th>\n",
       "      <th>clean_post</th>\n",
       "    </tr>\n",
       "  </thead>\n",
       "  <tbody>\n",
       "    <tr>\n",
       "      <th>0</th>\n",
       "      <td>I don't know if it was the emotional neglect, the psychological abuse, medical abuse, bullying, the CSA, whatever. I'm a mess right now. I feel like a horrible monster that somewhat a lot of people see as attractive, but under the facade I'm still a monster.  As if I was someone who was built for being unlovable and despised, physically and emotionally, since I was born. I keep working and wor...</td>\n",
       "      <td>i dont know if it was the emotional neglect the psychological abuse medical abuse bullying the csa whatever im a mess right now i feel like a horrible monster that somewhat a lot of people see as attractive but under the facade im still a monster as if i was someone who was built for being unlovable and despised physically and emotionally since i was born i keep working and working but i still...</td>\n",
       "    </tr>\n",
       "    <tr>\n",
       "      <th>1</th>\n",
       "      <td>See title.\\n\\nI used to be the person full of hobbies (biking, drawing, reading, writing, walking, gaming) who really disliked people who never knew what to do with their free time and would be clingy. Now I am one of them.\\n\\nThrough years of hard depression and su.c.dal.ty thanks to cptsd I have stopped all my hobbies. I entrench myself in work and by now also meeting people and sometimes ob...</td>\n",
       "      <td>see title i used to be the person full of hobbies biking drawing reading writing walking gaming who really disliked people who never knew what to do with their free time and would be clingy now i am one of them through years of hard depression and sucdalty thanks to cptsd i have stopped all my hobbies i entrench myself in work and by now also meeting people and sometimes obligatory projects li...</td>\n",
       "    </tr>\n",
       "    <tr>\n",
       "      <th>2</th>\n",
       "      <td>I was doing yoga for years as a tool to help me back into my body when I was feeling rough as a form of reconnection. I even went as far as becoming trained in teaching, doing a 200hr training. As my trauma symptoms peaked however yoga would actually start having the reverse effect and would dissociate me. (In retrospect I wonder if I was in fact being dissociated the whole time.)\\n\\nStarted a...</td>\n",
       "      <td>i was doing yoga for years as a tool to help me back into my body when i was feeling rough as a form of reconnection i even went as far as becoming trained in teaching doing a 200hr training as my trauma symptoms peaked however yoga would actually start having the reverse effect and would dissociate me in retrospect i wonder if i was in fact being dissociated the whole time started again recen...</td>\n",
       "    </tr>\n",
       "    <tr>\n",
       "      <th>3</th>\n",
       "      <td>The child me thought I made the right choice by listening to him. And he said as much. That I had finally done something right . Especially when they kept blaming me for all the things I did wrong . Anyone else ?</td>\n",
       "      <td>the child me thought i made the right choice by listening to him and he said as much that i had finally done something right especially when they kept blaming me for all the things i did wrong anyone else</td>\n",
       "    </tr>\n",
       "    <tr>\n",
       "      <th>4</th>\n",
       "      <td>Women: What is the real situation of misogyny, patriarchy, sexual abuse and harassment in your country?</td>\n",
       "      <td>women what is the real situation of misogyny patriarchy sexual abuse and harassment in your country</td>\n",
       "    </tr>\n",
       "  </tbody>\n",
       "</table>\n",
       "</div>"
      ],
      "text/plain": [
       "                                                                                                                                                                                                                                                                                                                                                                                                       reddit_post  \\\n",
       "0  I don't know if it was the emotional neglect, the psychological abuse, medical abuse, bullying, the CSA, whatever. I'm a mess right now. I feel like a horrible monster that somewhat a lot of people see as attractive, but under the facade I'm still a monster.  As if I was someone who was built for being unlovable and despised, physically and emotionally, since I was born. I keep working and wor...   \n",
       "1  See title.\\n\\nI used to be the person full of hobbies (biking, drawing, reading, writing, walking, gaming) who really disliked people who never knew what to do with their free time and would be clingy. Now I am one of them.\\n\\nThrough years of hard depression and su.c.dal.ty thanks to cptsd I have stopped all my hobbies. I entrench myself in work and by now also meeting people and sometimes ob...   \n",
       "2  I was doing yoga for years as a tool to help me back into my body when I was feeling rough as a form of reconnection. I even went as far as becoming trained in teaching, doing a 200hr training. As my trauma symptoms peaked however yoga would actually start having the reverse effect and would dissociate me. (In retrospect I wonder if I was in fact being dissociated the whole time.)\\n\\nStarted a...   \n",
       "3                                                                                                                                                                                             The child me thought I made the right choice by listening to him. And he said as much. That I had finally done something right . Especially when they kept blaming me for all the things I did wrong . Anyone else ?   \n",
       "4                                                                                                                                                                                                                                                                                                          Women: What is the real situation of misogyny, patriarchy, sexual abuse and harassment in your country?   \n",
       "\n",
       "                                                                                                                                                                                                                                                                                                                                                                                                        clean_post  \n",
       "0  i dont know if it was the emotional neglect the psychological abuse medical abuse bullying the csa whatever im a mess right now i feel like a horrible monster that somewhat a lot of people see as attractive but under the facade im still a monster as if i was someone who was built for being unlovable and despised physically and emotionally since i was born i keep working and working but i still...  \n",
       "1  see title i used to be the person full of hobbies biking drawing reading writing walking gaming who really disliked people who never knew what to do with their free time and would be clingy now i am one of them through years of hard depression and sucdalty thanks to cptsd i have stopped all my hobbies i entrench myself in work and by now also meeting people and sometimes obligatory projects li...  \n",
       "2  i was doing yoga for years as a tool to help me back into my body when i was feeling rough as a form of reconnection i even went as far as becoming trained in teaching doing a 200hr training as my trauma symptoms peaked however yoga would actually start having the reverse effect and would dissociate me in retrospect i wonder if i was in fact being dissociated the whole time started again recen...  \n",
       "3                                                                                                                                                                                                    the child me thought i made the right choice by listening to him and he said as much that i had finally done something right especially when they kept blaming me for all the things i did wrong anyone else   \n",
       "4                                                                                                                                                                                                                                                                                                              women what is the real situation of misogyny patriarchy sexual abuse and harassment in your country  "
      ]
     },
     "execution_count": 27,
     "metadata": {},
     "output_type": "execute_result"
    }
   ],
   "source": [
    "# Remove whitespaces\n",
    "df['clean_post'] = df['clean_post'].apply(nfx.remove_multiple_spaces)\n",
    "\n",
    "df[['reddit_post', 'clean_post']].head()"
   ]
  },
  {
   "cell_type": "markdown",
   "metadata": {},
   "source": [
    "### <b>3.1.6 <span style='color:#F1A424'>|</span> Emojis</b> "
   ]
  },
  {
   "cell_type": "code",
   "execution_count": 28,
   "metadata": {},
   "outputs": [
    {
     "data": {
      "text/html": [
       "<div>\n",
       "<style scoped>\n",
       "    .dataframe tbody tr th:only-of-type {\n",
       "        vertical-align: middle;\n",
       "    }\n",
       "\n",
       "    .dataframe tbody tr th {\n",
       "        vertical-align: top;\n",
       "    }\n",
       "\n",
       "    .dataframe thead th {\n",
       "        text-align: right;\n",
       "    }\n",
       "</style>\n",
       "<table border=\"1\" class=\"dataframe tex2jax_ignore\">\n",
       "  <thead>\n",
       "    <tr style=\"text-align: right;\">\n",
       "      <th></th>\n",
       "      <th>reddit_post</th>\n",
       "      <th>clean_post</th>\n",
       "    </tr>\n",
       "  </thead>\n",
       "  <tbody>\n",
       "    <tr>\n",
       "      <th>4287</th>\n",
       "      <td>Ease physical responses? Whenever I have an â€œin the spotlight feelingâ€, my heart will start racing, my face will get red, and Iâ€™ll stutter, despite not being stressed in my mind. I donâ€™t care. Iâ€™m wondering if anyone else has gone through the same thing and found something that stops it. Beta blockers would probably help but I canâ€™t get a prescription.</td>\n",
       "      <td>ease physical responses whenever i have an in the spotlight feeling my heart will start racing my face will get red and ill stutter despite not being stressed in my mind i dont care im wondering if anyone else has gone through the same thing and found something that stops it beta blockers would probably help but i cant get a prescription</td>\n",
       "    </tr>\n",
       "    <tr>\n",
       "      <th>27348</th>\n",
       "      <td>No motivation leading to suicidal thoughts Hi guys, I'm a 23 year old male in the final year of my degree. With everything going on I'm stuck at home and I find myself unmotivated to do any work for college or anything productive at all for. \\n\\nThis spirals into guilt and self loathing about not doing anything and now I'm idealising suicide. I have a loving family and great friends, but I can...</td>\n",
       "      <td>no motivation leading to suicidal thoughts hi guys im a 23 year old male in the final year of my degree with everything going on im stuck at home and i find myself unmotivated to do any work for college or anything productive at all for this spirals into guilt and self loathing about not doing anything and now im idealising suicide i have a loving family and great friends but i cant bring myse...</td>\n",
       "    </tr>\n",
       "    <tr>\n",
       "      <th>6348</th>\n",
       "      <td>I wish I had the courage I wish I had the courage to do it, but I'm too scared</td>\n",
       "      <td>i wish i had the courage i wish i had the courage to do it but im too scared</td>\n",
       "    </tr>\n",
       "    <tr>\n",
       "      <th>13378</th>\n",
       "      <td>My boyfriend told me I wouldn't be able to commit suicide because I'm weak and would give in before I let it happen Its almost as if it was a test</td>\n",
       "      <td>my boyfriend told me i wouldnt be able to commit suicide because im weak and would give in before i let it happen its almost as if it was a test</td>\n",
       "    </tr>\n",
       "    <tr>\n",
       "      <th>22263</th>\n",
       "      <td>need to talk to someone urgently i'm currently in a very big crisis and i really need someone to just listen for a bit, please please please don't let me do this, i really don't want to do it but i see no other way right now</td>\n",
       "      <td>need to talk to someone urgently im currently in a very big crisis and i really need someone to just listen for a bit please please please dont let me do this i really dont want to do it but i see no other way right now</td>\n",
       "    </tr>\n",
       "  </tbody>\n",
       "</table>\n",
       "</div>"
      ],
      "text/plain": [
       "                                                                                                                                                                                                                                                                                                                                                                                                           reddit_post  \\\n",
       "4287                                    Ease physical responses? Whenever I have an â€œin the spotlight feelingâ€, my heart will start racing, my face will get red, and Iâ€™ll stutter, despite not being stressed in my mind. I donâ€™t care. Iâ€™m wondering if anyone else has gone through the same thing and found something that stops it. Beta blockers would probably help but I canâ€™t get a prescription.   \n",
       "27348  No motivation leading to suicidal thoughts Hi guys, I'm a 23 year old male in the final year of my degree. With everything going on I'm stuck at home and I find myself unmotivated to do any work for college or anything productive at all for. \\n\\nThis spirals into guilt and self loathing about not doing anything and now I'm idealising suicide. I have a loving family and great friends, but I can...   \n",
       "6348                                                                                                                                                                                                                                                                                                                                    I wish I had the courage I wish I had the courage to do it, but I'm too scared   \n",
       "13378                                                                                                                                                                                                                                                               My boyfriend told me I wouldn't be able to commit suicide because I'm weak and would give in before I let it happen Its almost as if it was a test   \n",
       "22263                                                                                                                                                                                 need to talk to someone urgently i'm currently in a very big crisis and i really need someone to just listen for a bit, please please please don't let me do this, i really don't want to do it but i see no other way right now   \n",
       "\n",
       "                                                                                                                                                                                                                                                                                                                                                                                                            clean_post  \n",
       "4287                                                               ease physical responses whenever i have an in the spotlight feeling my heart will start racing my face will get red and ill stutter despite not being stressed in my mind i dont care im wondering if anyone else has gone through the same thing and found something that stops it beta blockers would probably help but i cant get a prescription  \n",
       "27348  no motivation leading to suicidal thoughts hi guys im a 23 year old male in the final year of my degree with everything going on im stuck at home and i find myself unmotivated to do any work for college or anything productive at all for this spirals into guilt and self loathing about not doing anything and now im idealising suicide i have a loving family and great friends but i cant bring myse...  \n",
       "6348                                                                                                                                                                                                                                                                                                                                      i wish i had the courage i wish i had the courage to do it but im too scared  \n",
       "13378                                                                                                                                                                                                                                                                 my boyfriend told me i wouldnt be able to commit suicide because im weak and would give in before i let it happen its almost as if it was a test  \n",
       "22263                                                                                                                                                                                      need to talk to someone urgently im currently in a very big crisis and i really need someone to just listen for a bit please please please dont let me do this i really dont want to do it but i see no other way right now  "
      ]
     },
     "execution_count": 28,
     "metadata": {},
     "output_type": "execute_result"
    }
   ],
   "source": [
    "# Remove emojis\n",
    "df['clean_post'] = df['clean_post'].apply(nfx.remove_emojis)\n",
    "\n",
    "df[['reddit_post', 'clean_post']].sample(5)"
   ]
  },
  {
   "cell_type": "markdown",
   "metadata": {},
   "source": [
    "### <b>3.1.7 <span style='color:#F1A424'>|</span> Contractions</b> "
   ]
  },
  {
   "cell_type": "code",
   "execution_count": 29,
   "metadata": {},
   "outputs": [
    {
     "name": "stdout",
     "output_type": "stream",
     "text": [
      "Requirement already satisfied: contractions in c:\\users\\dell\\anaconda3\\anaconda4\\envs\\learn-env\\lib\\site-packages (0.1.73)\n",
      "Requirement already satisfied: textsearch>=0.0.21 in c:\\users\\dell\\anaconda3\\anaconda4\\envs\\learn-env\\lib\\site-packages (from contractions) (0.0.24)\n",
      "Requirement already satisfied: pyahocorasick in c:\\users\\dell\\anaconda3\\anaconda4\\envs\\learn-env\\lib\\site-packages (from textsearch>=0.0.21->contractions) (2.0.0)\n",
      "Requirement already satisfied: anyascii in c:\\users\\dell\\anaconda3\\anaconda4\\envs\\learn-env\\lib\\site-packages (from textsearch>=0.0.21->contractions) (0.3.2)\n",
      "Note: you may need to restart the kernel to use updated packages.\n"
     ]
    }
   ],
   "source": [
    "pip install contractions"
   ]
  },
  {
   "cell_type": "code",
   "execution_count": 30,
   "metadata": {
    "scrolled": true
   },
   "outputs": [
    {
     "data": {
      "text/html": [
       "<div>\n",
       "<style scoped>\n",
       "    .dataframe tbody tr th:only-of-type {\n",
       "        vertical-align: middle;\n",
       "    }\n",
       "\n",
       "    .dataframe tbody tr th {\n",
       "        vertical-align: top;\n",
       "    }\n",
       "\n",
       "    .dataframe thead th {\n",
       "        text-align: right;\n",
       "    }\n",
       "</style>\n",
       "<table border=\"1\" class=\"dataframe tex2jax_ignore\">\n",
       "  <thead>\n",
       "    <tr style=\"text-align: right;\">\n",
       "      <th></th>\n",
       "      <th>reddit_post</th>\n",
       "      <th>clean_post</th>\n",
       "    </tr>\n",
       "  </thead>\n",
       "  <tbody>\n",
       "    <tr>\n",
       "      <th>0</th>\n",
       "      <td>I don't know if it was the emotional neglect, the psychological abuse, medical abuse, bullying, the CSA, whatever. I'm a mess right now. I feel like a horrible monster that somewhat a lot of people see as attractive, but under the facade I'm still a monster.  As if I was someone who was built for being unlovable and despised, physically and emotionally, since I was born. I keep working and wor...</td>\n",
       "      <td>i do not know if it was the emotional neglect the psychological abuse medical abuse bullying the csa whatever i am a mess right now i feel like a horrible monster that somewhat a lot of people see as attractive but under the facade i am still a monster as if i was someone who was built for being unlovable and despised physically and emotionally since i was born i keep working and working but i...</td>\n",
       "    </tr>\n",
       "    <tr>\n",
       "      <th>1</th>\n",
       "      <td>See title.\\n\\nI used to be the person full of hobbies (biking, drawing, reading, writing, walking, gaming) who really disliked people who never knew what to do with their free time and would be clingy. Now I am one of them.\\n\\nThrough years of hard depression and su.c.dal.ty thanks to cptsd I have stopped all my hobbies. I entrench myself in work and by now also meeting people and sometimes ob...</td>\n",
       "      <td>see title i used to be the person full of hobbies biking drawing reading writing walking gaming who really disliked people who never knew what to do with their free time and would be clingy now i am one of them through years of hard depression and sucdalty thanks to cptsd i have stopped all my hobbies i entrench myself in work and by now also meeting people and sometimes obligatory projects li...</td>\n",
       "    </tr>\n",
       "    <tr>\n",
       "      <th>2</th>\n",
       "      <td>I was doing yoga for years as a tool to help me back into my body when I was feeling rough as a form of reconnection. I even went as far as becoming trained in teaching, doing a 200hr training. As my trauma symptoms peaked however yoga would actually start having the reverse effect and would dissociate me. (In retrospect I wonder if I was in fact being dissociated the whole time.)\\n\\nStarted a...</td>\n",
       "      <td>i was doing yoga for years as a tool to help me back into my body when i was feeling rough as a form of reconnection i even went as far as becoming trained in teaching doing a 200hr training as my trauma symptoms peaked however yoga would actually start having the reverse effect and would dissociate me in retrospect i wonder if i was in fact being dissociated the whole time started again recen...</td>\n",
       "    </tr>\n",
       "    <tr>\n",
       "      <th>3</th>\n",
       "      <td>The child me thought I made the right choice by listening to him. And he said as much. That I had finally done something right . Especially when they kept blaming me for all the things I did wrong . Anyone else ?</td>\n",
       "      <td>the child me thought i made the right choice by listening to him and he said as much that i had finally done something right especially when they kept blaming me for all the things i did wrong anyone else</td>\n",
       "    </tr>\n",
       "    <tr>\n",
       "      <th>4</th>\n",
       "      <td>Women: What is the real situation of misogyny, patriarchy, sexual abuse and harassment in your country?</td>\n",
       "      <td>women what is the real situation of misogyny patriarchy sexual abuse and harassment in your country</td>\n",
       "    </tr>\n",
       "  </tbody>\n",
       "</table>\n",
       "</div>"
      ],
      "text/plain": [
       "                                                                                                                                                                                                                                                                                                                                                                                                       reddit_post  \\\n",
       "0  I don't know if it was the emotional neglect, the psychological abuse, medical abuse, bullying, the CSA, whatever. I'm a mess right now. I feel like a horrible monster that somewhat a lot of people see as attractive, but under the facade I'm still a monster.  As if I was someone who was built for being unlovable and despised, physically and emotionally, since I was born. I keep working and wor...   \n",
       "1  See title.\\n\\nI used to be the person full of hobbies (biking, drawing, reading, writing, walking, gaming) who really disliked people who never knew what to do with their free time and would be clingy. Now I am one of them.\\n\\nThrough years of hard depression and su.c.dal.ty thanks to cptsd I have stopped all my hobbies. I entrench myself in work and by now also meeting people and sometimes ob...   \n",
       "2  I was doing yoga for years as a tool to help me back into my body when I was feeling rough as a form of reconnection. I even went as far as becoming trained in teaching, doing a 200hr training. As my trauma symptoms peaked however yoga would actually start having the reverse effect and would dissociate me. (In retrospect I wonder if I was in fact being dissociated the whole time.)\\n\\nStarted a...   \n",
       "3                                                                                                                                                                                             The child me thought I made the right choice by listening to him. And he said as much. That I had finally done something right . Especially when they kept blaming me for all the things I did wrong . Anyone else ?   \n",
       "4                                                                                                                                                                                                                                                                                                          Women: What is the real situation of misogyny, patriarchy, sexual abuse and harassment in your country?   \n",
       "\n",
       "                                                                                                                                                                                                                                                                                                                                                                                                        clean_post  \n",
       "0  i do not know if it was the emotional neglect the psychological abuse medical abuse bullying the csa whatever i am a mess right now i feel like a horrible monster that somewhat a lot of people see as attractive but under the facade i am still a monster as if i was someone who was built for being unlovable and despised physically and emotionally since i was born i keep working and working but i...  \n",
       "1  see title i used to be the person full of hobbies biking drawing reading writing walking gaming who really disliked people who never knew what to do with their free time and would be clingy now i am one of them through years of hard depression and sucdalty thanks to cptsd i have stopped all my hobbies i entrench myself in work and by now also meeting people and sometimes obligatory projects li...  \n",
       "2  i was doing yoga for years as a tool to help me back into my body when i was feeling rough as a form of reconnection i even went as far as becoming trained in teaching doing a 200hr training as my trauma symptoms peaked however yoga would actually start having the reverse effect and would dissociate me in retrospect i wonder if i was in fact being dissociated the whole time started again recen...  \n",
       "3                                                                                                                                                                                                    the child me thought i made the right choice by listening to him and he said as much that i had finally done something right especially when they kept blaming me for all the things i did wrong anyone else   \n",
       "4                                                                                                                                                                                                                                                                                                              women what is the real situation of misogyny patriarchy sexual abuse and harassment in your country  "
      ]
     },
     "execution_count": 30,
     "metadata": {},
     "output_type": "execute_result"
    }
   ],
   "source": [
    "import contractions\n",
    "\n",
    "# Apply the contractions.fix function to the clean_tweet column\n",
    "df['clean_post'] = df['clean_post'].apply(contractions.fix)\n",
    "\n",
    "df[['reddit_post', 'clean_post']].head()"
   ]
  },
  {
   "cell_type": "markdown",
   "metadata": {},
   "source": [
    "### <b>3.1.8 <span style='color:#F1A424'>|</span> Stopwords</b> "
   ]
  },
  {
   "cell_type": "code",
   "execution_count": 31,
   "metadata": {},
   "outputs": [
    {
     "data": {
      "text/plain": [
       "0                                                                                                                                                               [i, do, not, if, it, was, the, the, the, whatever, i, am, a, now, i, a, that, a, of, see, as, but, under, the, i, am, still, a, as, if, i, was, someone, who, was, for, being, and, and, since, i, was, i, keep, and, but, i, still, do, not, for, this]\n",
       "1        [see, i, used, to, be, the, full, of, who, really, who, never, what, to, do, with, their, and, would, be, now, i, am, one, of, them, through, of, and, to, i, have, all, my, i, myself, in, and, by, now, also, and, sometimes, to, an, that, me, without, any, when, i, have, and, am, alone, i, on, the, and, do, nothing, i, i, even, myself, also, myself, a, for, being, this, sometimes, i, for, the, ...\n",
       "2                                                                                                       [i, was, doing, for, as, a, to, me, back, into, my, when, i, was, as, a, of, i, even, as, as, becoming, in, doing, a, as, my, however, would, having, the, and, would, me, in, i, if, i, was, in, being, the, whole, again, and, its, not, as, as, it, was, but, i, anyone, the, same, anyone, have, any, other]\n",
       "3                                                                                                                                                                                                                                                                            [the, me, i, made, the, by, to, him, and, he, as, much, that, i, had, done, something, when, they, me, for, all, the, i, did, anyone, else]\n",
       "4                                                                                                                                                                                                                                                                                                                                                                                     [what, is, the, of, and, in, your]\n",
       "                                                                                                                                                                                                              ...                                                                                                                                                                                                       \n",
       "27673                                                                                                                                                                                                               [but, i, doing, it, of, everyone, no, do, not, get, up, so, i, can, you, again, i, am, i, to, out, and, be, done, everything, just, everything, myself, as, if, any, of, that, even, the, i, i, out]\n",
       "27674    [nothing, to, for, the, only, i, am, now, is, because, of, my, was, the, of, him, i, have, been, really, and, have, not, been, to, with, him, as, much, so, been, and, being, a, as, a, i, so, and, at, him, all, i, can, about, now, is, how, i, should, give, him, to, someone, someone, but, if, i, give, him, i, have, nothing, to, for, i, have, my, but, so, i, do, not, have, have, not, to, my, sinc...\n",
       "27675                                                                                                                                                                                                                                                                                                                                                                         [i, am, to, myself, too, i, i, am, to, go]\n",
       "27676    [i, am, to, all, i, have, done, for, about, a, has, been, in, i, do, not, anything, cannot, on, anything, i, am, of, the, i, do, not, to, be, i, am, in, so, much, the, only, i, am, is, my, because, i, do, not, to, him, that, and, i, cannot, on, a, i, not, to, him, me, from, a, in, the, when, my, is, no, around, i, i, will, have, no, but, to, my, i, am, so, i, more, than, anything, that, i, wil...\n",
       "27677                                                                                                           [its, been, a, of, very, of, and, i, am, of, it, i, i, was, the, where, it, for, me, but, its, all, down, i, am, in, a, very, very, of, my, i, the, only, to, this, is, i, do, not, why, i, am, this, here, i, just, someone, to, i, someone, to, how, much, i, was, before, i, it, you, for, i, am, to]\n",
       "Name: clean_post, Length: 27666, dtype: object"
      ]
     },
     "execution_count": 31,
     "metadata": {},
     "output_type": "execute_result"
    }
   ],
   "source": [
    "# Extract stopwords\n",
    "df['clean_post'].apply(lambda x: nt.TextExtractor(x).extract_stopwords())"
   ]
  },
  {
   "cell_type": "code",
   "execution_count": 32,
   "metadata": {},
   "outputs": [
    {
     "data": {
      "text/html": [
       "<div>\n",
       "<style scoped>\n",
       "    .dataframe tbody tr th:only-of-type {\n",
       "        vertical-align: middle;\n",
       "    }\n",
       "\n",
       "    .dataframe tbody tr th {\n",
       "        vertical-align: top;\n",
       "    }\n",
       "\n",
       "    .dataframe thead th {\n",
       "        text-align: right;\n",
       "    }\n",
       "</style>\n",
       "<table border=\"1\" class=\"dataframe tex2jax_ignore\">\n",
       "  <thead>\n",
       "    <tr style=\"text-align: right;\">\n",
       "      <th></th>\n",
       "      <th>reddit_post</th>\n",
       "      <th>clean_post</th>\n",
       "    </tr>\n",
       "  </thead>\n",
       "  <tbody>\n",
       "    <tr>\n",
       "      <th>0</th>\n",
       "      <td>I don't know if it was the emotional neglect, the psychological abuse, medical abuse, bullying, the CSA, whatever. I'm a mess right now. I feel like a horrible monster that somewhat a lot of people see as attractive, but under the facade I'm still a monster.  As if I was someone who was built for being unlovable and despised, physically and emotionally, since I was born. I keep working and wor...</td>\n",
       "      <td>know emotional neglect psychological abuse medical abuse bullying csa mess right feel like horrible monster somewhat lot people attractive facade monster built unlovable despised physically emotionally born working working feel fit world</td>\n",
       "    </tr>\n",
       "    <tr>\n",
       "      <th>1</th>\n",
       "      <td>See title.\\n\\nI used to be the person full of hobbies (biking, drawing, reading, writing, walking, gaming) who really disliked people who never knew what to do with their free time and would be clingy. Now I am one of them.\\n\\nThrough years of hard depression and su.c.dal.ty thanks to cptsd I have stopped all my hobbies. I entrench myself in work and by now also meeting people and sometimes ob...</td>\n",
       "      <td>title person hobbies biking drawing reading writing walking gaming disliked people knew free time clingy years hard depression sucdalty thanks cptsd stopped hobbies entrench work meeting people obligatory projects like drivers license extent leaves free time free time lie couch think pity hate lot way watch netflix hours doom scroll reddit waste time browsing internet try sleep lot better inte...</td>\n",
       "    </tr>\n",
       "    <tr>\n",
       "      <th>2</th>\n",
       "      <td>I was doing yoga for years as a tool to help me back into my body when I was feeling rough as a form of reconnection. I even went as far as becoming trained in teaching, doing a 200hr training. As my trauma symptoms peaked however yoga would actually start having the reverse effect and would dissociate me. (In retrospect I wonder if I was in fact being dissociated the whole time.)\\n\\nStarted a...</td>\n",
       "      <td>yoga years tool help body feeling rough form reconnection went far trained teaching 200hr training trauma symptoms peaked yoga actually start reverse effect dissociate retrospect wonder fact dissociated time started recently bad damn disconnect hard exercise tips</td>\n",
       "    </tr>\n",
       "    <tr>\n",
       "      <th>3</th>\n",
       "      <td>The child me thought I made the right choice by listening to him. And he said as much. That I had finally done something right . Especially when they kept blaming me for all the things I did wrong . Anyone else ?</td>\n",
       "      <td>child thought right choice listening said finally right especially kept blaming things wrong</td>\n",
       "    </tr>\n",
       "    <tr>\n",
       "      <th>4</th>\n",
       "      <td>Women: What is the real situation of misogyny, patriarchy, sexual abuse and harassment in your country?</td>\n",
       "      <td>women real situation misogyny patriarchy sexual abuse harassment country</td>\n",
       "    </tr>\n",
       "  </tbody>\n",
       "</table>\n",
       "</div>"
      ],
      "text/plain": [
       "                                                                                                                                                                                                                                                                                                                                                                                                       reddit_post  \\\n",
       "0  I don't know if it was the emotional neglect, the psychological abuse, medical abuse, bullying, the CSA, whatever. I'm a mess right now. I feel like a horrible monster that somewhat a lot of people see as attractive, but under the facade I'm still a monster.  As if I was someone who was built for being unlovable and despised, physically and emotionally, since I was born. I keep working and wor...   \n",
       "1  See title.\\n\\nI used to be the person full of hobbies (biking, drawing, reading, writing, walking, gaming) who really disliked people who never knew what to do with their free time and would be clingy. Now I am one of them.\\n\\nThrough years of hard depression and su.c.dal.ty thanks to cptsd I have stopped all my hobbies. I entrench myself in work and by now also meeting people and sometimes ob...   \n",
       "2  I was doing yoga for years as a tool to help me back into my body when I was feeling rough as a form of reconnection. I even went as far as becoming trained in teaching, doing a 200hr training. As my trauma symptoms peaked however yoga would actually start having the reverse effect and would dissociate me. (In retrospect I wonder if I was in fact being dissociated the whole time.)\\n\\nStarted a...   \n",
       "3                                                                                                                                                                                             The child me thought I made the right choice by listening to him. And he said as much. That I had finally done something right . Especially when they kept blaming me for all the things I did wrong . Anyone else ?   \n",
       "4                                                                                                                                                                                                                                                                                                          Women: What is the real situation of misogyny, patriarchy, sexual abuse and harassment in your country?   \n",
       "\n",
       "                                                                                                                                                                                                                                                                                                                                                                                                        clean_post  \n",
       "0                                                                                                                                                                    know emotional neglect psychological abuse medical abuse bullying csa mess right feel like horrible monster somewhat lot people attractive facade monster built unlovable despised physically emotionally born working working feel fit world  \n",
       "1  title person hobbies biking drawing reading writing walking gaming disliked people knew free time clingy years hard depression sucdalty thanks cptsd stopped hobbies entrench work meeting people obligatory projects like drivers license extent leaves free time free time lie couch think pity hate lot way watch netflix hours doom scroll reddit waste time browsing internet try sleep lot better inte...  \n",
       "2                                                                                                                                          yoga years tool help body feeling rough form reconnection went far trained teaching 200hr training trauma symptoms peaked yoga actually start reverse effect dissociate retrospect wonder fact dissociated time started recently bad damn disconnect hard exercise tips  \n",
       "3                                                                                                                                                                                                                                                                                                                     child thought right choice listening said finally right especially kept blaming things wrong  \n",
       "4                                                                                                                                                                                                                                                                                                                                         women real situation misogyny patriarchy sexual abuse harassment country  "
      ]
     },
     "execution_count": 32,
     "metadata": {},
     "output_type": "execute_result"
    }
   ],
   "source": [
    "# Remove the stop words\n",
    "\n",
    "df['clean_post'] = df['clean_post'].apply(nfx.remove_stopwords)\n",
    "\n",
    "df[['reddit_post', 'clean_post']].head()"
   ]
  },
  {
   "cell_type": "code",
   "execution_count": 33,
   "metadata": {},
   "outputs": [
    {
     "data": {
      "text/plain": [
       "0        0\n",
       "1        0\n",
       "2        0\n",
       "3        0\n",
       "4        0\n",
       "        ..\n",
       "27673    0\n",
       "27674    0\n",
       "27675    0\n",
       "27676    0\n",
       "27677    0\n",
       "Name: clean_post, Length: 27666, dtype: int64"
      ]
     },
     "execution_count": 33,
     "metadata": {},
     "output_type": "execute_result"
    }
   ],
   "source": [
    "# Noise Scan after cleaning text\n",
    "df['clean_post'].apply(lambda x: nt.TextFrame(x).noise_scan()['text_noise'])"
   ]
  },
  {
   "cell_type": "markdown",
   "metadata": {},
   "source": [
    "## <b>3.2 <span style='color:#F1A424'>|</span> Linguistic Processing (Clean Text)</b> \n",
    "\n",
    "+ Tokenization\n",
    "+ Stemming / Lemmatization\n",
    "+ Parts of Speech Tagging\n",
    "+ Calculating Sentiment Based on Polarity & Subjectivity"
   ]
  },
  {
   "cell_type": "markdown",
   "metadata": {},
   "source": [
    "### <b>3.2.1 <span style='color:#F1A424'>|</span> Tokenization</b> "
   ]
  },
  {
   "cell_type": "code",
   "execution_count": 34,
   "metadata": {},
   "outputs": [
    {
     "data": {
      "text/plain": [
       "'close life think wrong lot pain losing girlfriend realizing real friends family uncaring suicidal broke suicidal pain great find alleviate pain try feel better working tell moment'"
      ]
     },
     "execution_count": 34,
     "metadata": {},
     "output_type": "execute_result"
    }
   ],
   "source": [
    "test_sample = df['clean_post'].loc[12827]\n",
    "\n",
    "test_sample"
   ]
  },
  {
   "cell_type": "code",
   "execution_count": 35,
   "metadata": {},
   "outputs": [
    {
     "data": {
      "text/plain": [
       "['close',\n",
       " 'life',\n",
       " 'think',\n",
       " 'wrong',\n",
       " 'lot',\n",
       " 'pain',\n",
       " 'losing',\n",
       " 'girlfriend',\n",
       " 'realizing',\n",
       " 'real',\n",
       " 'friends',\n",
       " 'family',\n",
       " 'uncaring',\n",
       " 'suicidal',\n",
       " 'broke',\n",
       " 'suicidal',\n",
       " 'pain',\n",
       " 'great',\n",
       " 'find',\n",
       " 'alleviate',\n",
       " 'pain',\n",
       " 'try',\n",
       " 'feel',\n",
       " 'better',\n",
       " 'working',\n",
       " 'tell',\n",
       " 'moment']"
      ]
     },
     "execution_count": 35,
     "metadata": {},
     "output_type": "execute_result"
    }
   ],
   "source": [
    "from nltk.tokenize import RegexpTokenizer\n",
    "\n",
    "basic_token_pattern = r\"(?u)\\b\\w\\w+\\b\"\n",
    "\n",
    "tokenizer = RegexpTokenizer(basic_token_pattern)\n",
    "\n",
    "tokenizer.tokenize(test_sample)"
   ]
  },
  {
   "cell_type": "code",
   "execution_count": 36,
   "metadata": {},
   "outputs": [],
   "source": [
    "# Tokenise the clean_tweet column\n",
    "df['preprocessed_post'] = df['clean_post'].apply(lambda x: tokenizer.tokenize(x))\n",
    "\n",
    "# df.iloc[100][\"preprocessed_tweet\"][:20]"
   ]
  },
  {
   "cell_type": "code",
   "execution_count": 37,
   "metadata": {},
   "outputs": [
    {
     "data": {
      "text/plain": [
       "clean_post                      curious immense pressure fear paranoia strings attached thought feeling word\n",
       "preprocessed_post    [curious, immense, pressure, fear, paranoia, strings, attached, thought, feeling, word]\n",
       "Name: 100, dtype: object"
      ]
     },
     "execution_count": 37,
     "metadata": {},
     "output_type": "execute_result"
    }
   ],
   "source": [
    "df[['clean_post', 'preprocessed_post']].iloc[100]"
   ]
  },
  {
   "cell_type": "code",
   "execution_count": 1,
   "metadata": {},
   "outputs": [
    {
     "ename": "NameError",
     "evalue": "name 'df' is not defined",
     "output_type": "error",
     "traceback": [
      "\u001b[1;31m---------------------------------------------------------------------------\u001b[0m",
      "\u001b[1;31mNameError\u001b[0m                                 Traceback (most recent call last)",
      "\u001b[1;32m<ipython-input-1-00cf07b74dcd>\u001b[0m in \u001b[0;36m<module>\u001b[1;34m\u001b[0m\n\u001b[1;32m----> 1\u001b[1;33m \u001b[0mdf\u001b[0m\u001b[1;33m\u001b[0m\u001b[1;33m\u001b[0m\u001b[0m\n\u001b[0m",
      "\u001b[1;31mNameError\u001b[0m: name 'df' is not defined"
     ]
    }
   ],
   "source": [
    "df"
   ]
  },
  {
   "cell_type": "markdown",
   "metadata": {},
   "source": [
    "### <b>3.2.2 <span style='color:#F1A424'>|</span> Lemmatization</b> "
   ]
  },
  {
   "cell_type": "code",
   "execution_count": 38,
   "metadata": {},
   "outputs": [
    {
     "name": "stderr",
     "output_type": "stream",
     "text": [
      "[nltk_data] Downloading package wordnet to\n",
      "[nltk_data]     C:\\Users\\DELL\\AppData\\Roaming\\nltk_data...\n",
      "[nltk_data]   Package wordnet is already up-to-date!\n"
     ]
    },
    {
     "data": {
      "text/plain": [
       "True"
      ]
     },
     "execution_count": 38,
     "metadata": {},
     "output_type": "execute_result"
    }
   ],
   "source": [
    "import nltk\n",
    "nltk.download('wordnet')\n"
   ]
  },
  {
   "cell_type": "code",
   "execution_count": 39,
   "metadata": {},
   "outputs": [],
   "source": [
    "# Define a function to lemmatise the tokens\n",
    "def lemmatise_tokens(tokens):\n",
    "    lemmatizer = nltk.stem.WordNetLemmatizer()\n",
    "    lemmatized_tokens = [lemmatizer.lemmatize(token) for token in tokens]\n",
    "    return lemmatized_tokens\n",
    "\n",
    "# Lemmatise the tokens\n",
    "# Lemmatise the tokens\n",
    "df['lemma_preprocessed_post'] = df['preprocessed_post'].apply(lambda x: lemmatise_tokens(x))\n",
    " \n",
    "# df.iloc[100][\"preprocessed_tweet\"][:20]\n",
    "    "
   ]
  },
  {
   "cell_type": "code",
   "execution_count": 40,
   "metadata": {},
   "outputs": [
    {
     "data": {
      "text/plain": [
       "clean_post                                                     mom cruel pos growing neglected invalidated hated mewhen got depressed child treated worse burden stand suicidal cut arms mom told ahead encouraged sucide mother loves child matter mad hurts mother like friends partner family wish god loving mother leastits wanted\n",
       "lemma_preprocessed_post    [mom, cruel, po, growing, neglected, invalidated, hated, mewhen, got, depressed, child, treated, worse, burden, stand, suicidal, cut, arm, mom, told, ahead, encouraged, sucide, mother, love, child, matter, mad, hurt, mother, like, friend, partner, family, wish, god, loving, mother, leastits, wanted]\n",
       "Name: 260, dtype: object"
      ]
     },
     "execution_count": 40,
     "metadata": {},
     "output_type": "execute_result"
    }
   ],
   "source": [
    "df[['clean_post', 'lemma_preprocessed_post']].iloc[260]"
   ]
  },
  {
   "cell_type": "code",
   "execution_count": 41,
   "metadata": {},
   "outputs": [],
   "source": [
    "# Define a function to stem the tokens\n",
    "def stem_tokens(tokens):\n",
    "    stemmer = nltk.stem.PorterStemmer()\n",
    "    stemmed_tokens = [stemmer.stem(token) for token in tokens]\n",
    "    return stemmed_tokens\n",
    "\n",
    "# Stem the tokens\n",
    "df['stemma_preprocessed_post'] = df['preprocessed_post'].apply(lambda x: stem_tokens(x))\n",
    "\n",
    "# df.iloc[100][\"preprocessed_tweet\"][:20]"
   ]
  },
  {
   "cell_type": "code",
   "execution_count": 42,
   "metadata": {},
   "outputs": [
    {
     "data": {
      "text/plain": [
       "clean_post                             mom cruel pos growing neglected invalidated hated mewhen got depressed child treated worse burden stand suicidal cut arms mom told ahead encouraged sucide mother loves child matter mad hurts mother like friends partner family wish god loving mother leastits wanted\n",
       "stemma_preprocessed_post    [mom, cruel, po, grow, neglect, invalid, hate, mewhen, got, depress, child, treat, wors, burden, stand, suicid, cut, arm, mom, told, ahead, encourag, sucid, mother, love, child, matter, mad, hurt, mother, like, friend, partner, famili, wish, god, love, mother, leastit, want]\n",
       "Name: 260, dtype: object"
      ]
     },
     "execution_count": 42,
     "metadata": {},
     "output_type": "execute_result"
    }
   ],
   "source": [
    "df[['clean_post', 'stemma_preprocessed_post']].iloc[260]"
   ]
  },
  {
   "cell_type": "markdown",
   "metadata": {},
   "source": [
    "### <b>3.2.3 <span style='color:#F1A424'>|</span> Calculating Sentiment Based on Polarity & Subjectivity</b>\n",
    "\n",
    "TextBlob is a Python library for processing textual data, including sentiment analysis. It uses natural language processing (NLP) and the Natural Language Toolkit (NLTK) to achieve its tasks. When a sentence is passed into TextBlob, it returns two outputs: polarity and subjectivity. The polarity score is a float within the range [-1, 1], where -1 indicates a negative sentiment and 1 indicates a positive sentiment. The subjectivity score is a float within the range, where 0 is very objective and 1 is very subjective."
   ]
  },
  {
   "cell_type": "code",
   "execution_count": 43,
   "metadata": {},
   "outputs": [
    {
     "name": "stdout",
     "output_type": "stream",
     "text": [
      "Requirement already satisfied: textblob in c:\\users\\dell\\anaconda3\\anaconda4\\envs\\learn-env\\lib\\site-packages (0.17.1)Note: you may need to restart the kernel to use updated packages.\n",
      "Requirement already satisfied: nltk>=3.1; python_version >= \"3\" in c:\\users\\dell\\anaconda3\\anaconda4\\envs\\learn-env\\lib\\site-packages (from textblob) (3.5)\n",
      "Requirement already satisfied: click in c:\\users\\dell\\anaconda3\\anaconda4\\envs\\learn-env\\lib\\site-packages (from nltk>=3.1; python_version >= \"3\"->textblob) (7.1.2)\n",
      "Requirement already satisfied: joblib in c:\\users\\dell\\anaconda3\\anaconda4\\envs\\learn-env\\lib\\site-packages (from nltk>=3.1; python_version >= \"3\"->textblob) (0.17.0)\n",
      "Requirement already satisfied: tqdm in c:\\users\\dell\\anaconda3\\anaconda4\\envs\\learn-env\\lib\\site-packages (from nltk>=3.1; python_version >= \"3\"->textblob) (4.50.2)\n",
      "Requirement already satisfied: regex in c:\\users\\dell\\anaconda3\\anaconda4\\envs\\learn-env\\lib\\site-packages (from nltk>=3.1; python_version >= \"3\"->textblob) (2020.10.15)\n",
      "\n"
     ]
    }
   ],
   "source": [
    "pip install textblob\n"
   ]
  },
  {
   "cell_type": "code",
   "execution_count": 44,
   "metadata": {},
   "outputs": [
    {
     "data": {
      "text/html": [
       "<div>\n",
       "<style scoped>\n",
       "    .dataframe tbody tr th:only-of-type {\n",
       "        vertical-align: middle;\n",
       "    }\n",
       "\n",
       "    .dataframe tbody tr th {\n",
       "        vertical-align: top;\n",
       "    }\n",
       "\n",
       "    .dataframe thead th {\n",
       "        text-align: right;\n",
       "    }\n",
       "</style>\n",
       "<table border=\"1\" class=\"dataframe tex2jax_ignore\">\n",
       "  <thead>\n",
       "    <tr style=\"text-align: right;\">\n",
       "      <th></th>\n",
       "      <th>clean_post</th>\n",
       "      <th>Subjectivity</th>\n",
       "      <th>Polarity</th>\n",
       "    </tr>\n",
       "  </thead>\n",
       "  <tbody>\n",
       "    <tr>\n",
       "      <th>0</th>\n",
       "      <td>know emotional neglect psychological abuse medical abuse bullying csa mess right feel like horrible monster somewhat lot people attractive facade monster built unlovable despised physically emotionally born working working feel fit world</td>\n",
       "      <td>0.501190</td>\n",
       "      <td>0.034524</td>\n",
       "    </tr>\n",
       "    <tr>\n",
       "      <th>1</th>\n",
       "      <td>title person hobbies biking drawing reading writing walking gaming disliked people knew free time clingy years hard depression sucdalty thanks cptsd stopped hobbies entrench work meeting people obligatory projects like drivers license extent leaves free time free time lie couch think pity hate lot way watch netflix hours doom scroll reddit waste time browsing internet try sleep lot better inte...</td>\n",
       "      <td>0.528098</td>\n",
       "      <td>0.004550</td>\n",
       "    </tr>\n",
       "    <tr>\n",
       "      <th>2</th>\n",
       "      <td>yoga years tool help body feeling rough form reconnection went far trained teaching 200hr training trauma symptoms peaked yoga actually start reverse effect dissociate retrospect wonder fact dissociated time started recently bad damn disconnect hard exercise tips</td>\n",
       "      <td>0.541667</td>\n",
       "      <td>-0.198333</td>\n",
       "    </tr>\n",
       "    <tr>\n",
       "      <th>3</th>\n",
       "      <td>child thought right choice listening said finally right especially kept blaming things wrong</td>\n",
       "      <td>0.742857</td>\n",
       "      <td>0.017857</td>\n",
       "    </tr>\n",
       "    <tr>\n",
       "      <th>4</th>\n",
       "      <td>women real situation misogyny patriarchy sexual abuse harassment country</td>\n",
       "      <td>0.566667</td>\n",
       "      <td>0.350000</td>\n",
       "    </tr>\n",
       "  </tbody>\n",
       "</table>\n",
       "</div>"
      ],
      "text/plain": [
       "                                                                                                                                                                                                                                                                                                                                                                                                        clean_post  \\\n",
       "0                                                                                                                                                                    know emotional neglect psychological abuse medical abuse bullying csa mess right feel like horrible monster somewhat lot people attractive facade monster built unlovable despised physically emotionally born working working feel fit world   \n",
       "1  title person hobbies biking drawing reading writing walking gaming disliked people knew free time clingy years hard depression sucdalty thanks cptsd stopped hobbies entrench work meeting people obligatory projects like drivers license extent leaves free time free time lie couch think pity hate lot way watch netflix hours doom scroll reddit waste time browsing internet try sleep lot better inte...   \n",
       "2                                                                                                                                          yoga years tool help body feeling rough form reconnection went far trained teaching 200hr training trauma symptoms peaked yoga actually start reverse effect dissociate retrospect wonder fact dissociated time started recently bad damn disconnect hard exercise tips   \n",
       "3                                                                                                                                                                                                                                                                                                                     child thought right choice listening said finally right especially kept blaming things wrong   \n",
       "4                                                                                                                                                                                                                                                                                                                                         women real situation misogyny patriarchy sexual abuse harassment country   \n",
       "\n",
       "   Subjectivity  Polarity  \n",
       "0      0.501190  0.034524  \n",
       "1      0.528098  0.004550  \n",
       "2      0.541667 -0.198333  \n",
       "3      0.742857  0.017857  \n",
       "4      0.566667  0.350000  "
      ]
     },
     "execution_count": 44,
     "metadata": {},
     "output_type": "execute_result"
    }
   ],
   "source": [
    "from textblob import TextBlob\n",
    "\n",
    "# Create a function to get the subjectivity\n",
    "def getSubjectivity(text):\n",
    "  return TextBlob(text).sentiment.subjectivity\n",
    "\n",
    "# Create a function to get the polarity\n",
    "def getPolarity(text):\n",
    "  return TextBlob(text).sentiment.polarity\n",
    "\n",
    "# Create two new columns 'Subjectivity' & 'Polarity'\n",
    "df['Subjectivity'] = df['clean_post'].apply(getSubjectivity)\n",
    "df['Polarity'] = df['clean_post'].apply(getPolarity)\n",
    "\n",
    "# Show the new dataframe with columns 'Subjectivity' & 'Polarity'\n",
    "df[['clean_post','Subjectivity','Polarity']].head()"
   ]
  },
  {
   "cell_type": "code",
   "execution_count": 45,
   "metadata": {},
   "outputs": [
    {
     "data": {
      "text/html": [
       "<div>\n",
       "<style scoped>\n",
       "    .dataframe tbody tr th:only-of-type {\n",
       "        vertical-align: middle;\n",
       "    }\n",
       "\n",
       "    .dataframe tbody tr th {\n",
       "        vertical-align: top;\n",
       "    }\n",
       "\n",
       "    .dataframe thead th {\n",
       "        text-align: right;\n",
       "    }\n",
       "</style>\n",
       "<table border=\"1\" class=\"dataframe tex2jax_ignore\">\n",
       "  <thead>\n",
       "    <tr style=\"text-align: right;\">\n",
       "      <th></th>\n",
       "      <th>reddit_post</th>\n",
       "      <th>clean_post</th>\n",
       "      <th>Subjectivity</th>\n",
       "      <th>Polarity</th>\n",
       "      <th>sentiment</th>\n",
       "    </tr>\n",
       "  </thead>\n",
       "  <tbody>\n",
       "    <tr>\n",
       "      <th>0</th>\n",
       "      <td>I don't know if it was the emotional neglect, the psychological abuse, medical abuse, bullying, the CSA, whatever. I'm a mess right now. I feel like a horrible monster that somewhat a lot of people see as attractive, but under the facade I'm still a monster.  As if I was someone who was built for being unlovable and despised, physically and emotionally, since I was born. I keep working and wor...</td>\n",
       "      <td>know emotional neglect psychological abuse medical abuse bullying csa mess right feel like horrible monster somewhat lot people attractive facade monster built unlovable despised physically emotionally born working working feel fit world</td>\n",
       "      <td>0.501190</td>\n",
       "      <td>0.034524</td>\n",
       "      <td>Positive</td>\n",
       "    </tr>\n",
       "    <tr>\n",
       "      <th>1</th>\n",
       "      <td>See title.\\n\\nI used to be the person full of hobbies (biking, drawing, reading, writing, walking, gaming) who really disliked people who never knew what to do with their free time and would be clingy. Now I am one of them.\\n\\nThrough years of hard depression and su.c.dal.ty thanks to cptsd I have stopped all my hobbies. I entrench myself in work and by now also meeting people and sometimes ob...</td>\n",
       "      <td>title person hobbies biking drawing reading writing walking gaming disliked people knew free time clingy years hard depression sucdalty thanks cptsd stopped hobbies entrench work meeting people obligatory projects like drivers license extent leaves free time free time lie couch think pity hate lot way watch netflix hours doom scroll reddit waste time browsing internet try sleep lot better inte...</td>\n",
       "      <td>0.528098</td>\n",
       "      <td>0.004550</td>\n",
       "      <td>Positive</td>\n",
       "    </tr>\n",
       "    <tr>\n",
       "      <th>2</th>\n",
       "      <td>I was doing yoga for years as a tool to help me back into my body when I was feeling rough as a form of reconnection. I even went as far as becoming trained in teaching, doing a 200hr training. As my trauma symptoms peaked however yoga would actually start having the reverse effect and would dissociate me. (In retrospect I wonder if I was in fact being dissociated the whole time.)\\n\\nStarted a...</td>\n",
       "      <td>yoga years tool help body feeling rough form reconnection went far trained teaching 200hr training trauma symptoms peaked yoga actually start reverse effect dissociate retrospect wonder fact dissociated time started recently bad damn disconnect hard exercise tips</td>\n",
       "      <td>0.541667</td>\n",
       "      <td>-0.198333</td>\n",
       "      <td>Negative</td>\n",
       "    </tr>\n",
       "    <tr>\n",
       "      <th>3</th>\n",
       "      <td>The child me thought I made the right choice by listening to him. And he said as much. That I had finally done something right . Especially when they kept blaming me for all the things I did wrong . Anyone else ?</td>\n",
       "      <td>child thought right choice listening said finally right especially kept blaming things wrong</td>\n",
       "      <td>0.742857</td>\n",
       "      <td>0.017857</td>\n",
       "      <td>Positive</td>\n",
       "    </tr>\n",
       "    <tr>\n",
       "      <th>4</th>\n",
       "      <td>Women: What is the real situation of misogyny, patriarchy, sexual abuse and harassment in your country?</td>\n",
       "      <td>women real situation misogyny patriarchy sexual abuse harassment country</td>\n",
       "      <td>0.566667</td>\n",
       "      <td>0.350000</td>\n",
       "      <td>Positive</td>\n",
       "    </tr>\n",
       "  </tbody>\n",
       "</table>\n",
       "</div>"
      ],
      "text/plain": [
       "                                                                                                                                                                                                                                                                                                                                                                                                       reddit_post  \\\n",
       "0  I don't know if it was the emotional neglect, the psychological abuse, medical abuse, bullying, the CSA, whatever. I'm a mess right now. I feel like a horrible monster that somewhat a lot of people see as attractive, but under the facade I'm still a monster.  As if I was someone who was built for being unlovable and despised, physically and emotionally, since I was born. I keep working and wor...   \n",
       "1  See title.\\n\\nI used to be the person full of hobbies (biking, drawing, reading, writing, walking, gaming) who really disliked people who never knew what to do with their free time and would be clingy. Now I am one of them.\\n\\nThrough years of hard depression and su.c.dal.ty thanks to cptsd I have stopped all my hobbies. I entrench myself in work and by now also meeting people and sometimes ob...   \n",
       "2  I was doing yoga for years as a tool to help me back into my body when I was feeling rough as a form of reconnection. I even went as far as becoming trained in teaching, doing a 200hr training. As my trauma symptoms peaked however yoga would actually start having the reverse effect and would dissociate me. (In retrospect I wonder if I was in fact being dissociated the whole time.)\\n\\nStarted a...   \n",
       "3                                                                                                                                                                                             The child me thought I made the right choice by listening to him. And he said as much. That I had finally done something right . Especially when they kept blaming me for all the things I did wrong . Anyone else ?   \n",
       "4                                                                                                                                                                                                                                                                                                          Women: What is the real situation of misogyny, patriarchy, sexual abuse and harassment in your country?   \n",
       "\n",
       "                                                                                                                                                                                                                                                                                                                                                                                                        clean_post  \\\n",
       "0                                                                                                                                                                    know emotional neglect psychological abuse medical abuse bullying csa mess right feel like horrible monster somewhat lot people attractive facade monster built unlovable despised physically emotionally born working working feel fit world   \n",
       "1  title person hobbies biking drawing reading writing walking gaming disliked people knew free time clingy years hard depression sucdalty thanks cptsd stopped hobbies entrench work meeting people obligatory projects like drivers license extent leaves free time free time lie couch think pity hate lot way watch netflix hours doom scroll reddit waste time browsing internet try sleep lot better inte...   \n",
       "2                                                                                                                                          yoga years tool help body feeling rough form reconnection went far trained teaching 200hr training trauma symptoms peaked yoga actually start reverse effect dissociate retrospect wonder fact dissociated time started recently bad damn disconnect hard exercise tips   \n",
       "3                                                                                                                                                                                                                                                                                                                     child thought right choice listening said finally right especially kept blaming things wrong   \n",
       "4                                                                                                                                                                                                                                                                                                                                         women real situation misogyny patriarchy sexual abuse harassment country   \n",
       "\n",
       "   Subjectivity  Polarity sentiment  \n",
       "0      0.501190  0.034524  Positive  \n",
       "1      0.528098  0.004550  Positive  \n",
       "2      0.541667 -0.198333  Negative  \n",
       "3      0.742857  0.017857  Positive  \n",
       "4      0.566667  0.350000  Positive  "
      ]
     },
     "execution_count": 45,
     "metadata": {},
     "output_type": "execute_result"
    }
   ],
   "source": [
    "# Create a function to compute the negative, positive and nuetral analysis\n",
    "def getAnalysis(score):\n",
    "  if score < 0:\n",
    "    return 'Negative'\n",
    "  elif score == 0:\n",
    "    return 'Neutral'\n",
    "  else:\n",
    "    return 'Positive'\n",
    "  \n",
    "df['sentiment'] = df['Polarity'].apply(getAnalysis)\n",
    "\n",
    "# Show the dataframe\n",
    "df[['reddit_post','clean_post','Subjectivity','Polarity','sentiment']].head()"
   ]
  },
  {
   "cell_type": "code",
   "execution_count": 46,
   "metadata": {},
   "outputs": [
    {
     "data": {
      "text/plain": [
       "Negative    14784\n",
       "Positive    11533\n",
       "Neutral      1349\n",
       "Name: sentiment, dtype: int64"
      ]
     },
     "execution_count": 46,
     "metadata": {},
     "output_type": "execute_result"
    }
   ],
   "source": [
    "df['sentiment'].value_counts()"
   ]
  },
  {
   "cell_type": "code",
   "execution_count": 47,
   "metadata": {},
   "outputs": [],
   "source": [
    "# df['sentiment'].value_counts()"
   ]
  },
  {
   "cell_type": "code",
   "execution_count": 48,
   "metadata": {},
   "outputs": [
    {
     "data": {
      "text/html": [
       "<div>\n",
       "<style scoped>\n",
       "    .dataframe tbody tr th:only-of-type {\n",
       "        vertical-align: middle;\n",
       "    }\n",
       "\n",
       "    .dataframe tbody tr th {\n",
       "        vertical-align: top;\n",
       "    }\n",
       "\n",
       "    .dataframe thead th {\n",
       "        text-align: right;\n",
       "    }\n",
       "</style>\n",
       "<table border=\"1\" class=\"dataframe tex2jax_ignore\">\n",
       "  <thead>\n",
       "    <tr style=\"text-align: right;\">\n",
       "      <th></th>\n",
       "      <th>Subreddit</th>\n",
       "      <th>reddit_post</th>\n",
       "      <th>clean_post</th>\n",
       "      <th>urls</th>\n",
       "      <th>preprocessed_post</th>\n",
       "      <th>lemma_preprocessed_post</th>\n",
       "      <th>stemma_preprocessed_post</th>\n",
       "      <th>Subjectivity</th>\n",
       "      <th>Polarity</th>\n",
       "      <th>sentiment</th>\n",
       "    </tr>\n",
       "  </thead>\n",
       "  <tbody>\n",
       "    <tr>\n",
       "      <th>0</th>\n",
       "      <td>CPTSD</td>\n",
       "      <td>I don't know if it was the emotional neglect, the psychological abuse, medical abuse, bullying, the CSA, whatever. I'm a mess right now. I feel like a horrible monster that somewhat a lot of people see as attractive, but under the facade I'm still a monster.  As if I was someone who was built for being unlovable and despised, physically and emotionally, since I was born. I keep working and wor...</td>\n",
       "      <td>know emotional neglect psychological abuse medical abuse bullying csa mess right feel like horrible monster somewhat lot people attractive facade monster built unlovable despised physically emotionally born working working feel fit world</td>\n",
       "      <td>[]</td>\n",
       "      <td>[know, emotional, neglect, psychological, abuse, medical, abuse, bullying, csa, mess, right, feel, like, horrible, monster, somewhat, lot, people, attractive, facade, monster, built, unlovable, despised, physically, emotionally, born, working, working, feel, fit, world]</td>\n",
       "      <td>[know, emotional, neglect, psychological, abuse, medical, abuse, bullying, csa, mess, right, feel, like, horrible, monster, somewhat, lot, people, attractive, facade, monster, built, unlovable, despised, physically, emotionally, born, working, working, feel, fit, world]</td>\n",
       "      <td>[know, emot, neglect, psycholog, abus, medic, abus, bulli, csa, mess, right, feel, like, horribl, monster, somewhat, lot, peopl, attract, facad, monster, built, unlov, despis, physic, emot, born, work, work, feel, fit, world]</td>\n",
       "      <td>0.501190</td>\n",
       "      <td>0.034524</td>\n",
       "      <td>Positive</td>\n",
       "    </tr>\n",
       "    <tr>\n",
       "      <th>1</th>\n",
       "      <td>CPTSD</td>\n",
       "      <td>See title.\\n\\nI used to be the person full of hobbies (biking, drawing, reading, writing, walking, gaming) who really disliked people who never knew what to do with their free time and would be clingy. Now I am one of them.\\n\\nThrough years of hard depression and su.c.dal.ty thanks to cptsd I have stopped all my hobbies. I entrench myself in work and by now also meeting people and sometimes ob...</td>\n",
       "      <td>title person hobbies biking drawing reading writing walking gaming disliked people knew free time clingy years hard depression sucdalty thanks cptsd stopped hobbies entrench work meeting people obligatory projects like drivers license extent leaves free time free time lie couch think pity hate lot way watch netflix hours doom scroll reddit waste time browsing internet try sleep lot better inte...</td>\n",
       "      <td>[]</td>\n",
       "      <td>[title, person, hobbies, biking, drawing, reading, writing, walking, gaming, disliked, people, knew, free, time, clingy, years, hard, depression, sucdalty, thanks, cptsd, stopped, hobbies, entrench, work, meeting, people, obligatory, projects, like, drivers, license, extent, leaves, free, time, free, time, lie, couch, think, pity, hate, lot, way, watch, netflix, hours, doom, scroll, reddit, wa...</td>\n",
       "      <td>[title, person, hobby, biking, drawing, reading, writing, walking, gaming, disliked, people, knew, free, time, clingy, year, hard, depression, sucdalty, thanks, cptsd, stopped, hobby, entrench, work, meeting, people, obligatory, project, like, driver, license, extent, leaf, free, time, free, time, lie, couch, think, pity, hate, lot, way, watch, netflix, hour, doom, scroll, reddit, waste, time,...</td>\n",
       "      <td>[titl, person, hobbi, bike, draw, read, write, walk, game, dislik, peopl, knew, free, time, clingi, year, hard, depress, sucdalti, thank, cptsd, stop, hobbi, entrench, work, meet, peopl, obligatori, project, like, driver, licens, extent, leav, free, time, free, time, lie, couch, think, piti, hate, lot, way, watch, netflix, hour, doom, scroll, reddit, wast, time, brows, internet, tri, sleep, lo...</td>\n",
       "      <td>0.528098</td>\n",
       "      <td>0.004550</td>\n",
       "      <td>Positive</td>\n",
       "    </tr>\n",
       "    <tr>\n",
       "      <th>2</th>\n",
       "      <td>CPTSD</td>\n",
       "      <td>I was doing yoga for years as a tool to help me back into my body when I was feeling rough as a form of reconnection. I even went as far as becoming trained in teaching, doing a 200hr training. As my trauma symptoms peaked however yoga would actually start having the reverse effect and would dissociate me. (In retrospect I wonder if I was in fact being dissociated the whole time.)\\n\\nStarted a...</td>\n",
       "      <td>yoga years tool help body feeling rough form reconnection went far trained teaching 200hr training trauma symptoms peaked yoga actually start reverse effect dissociate retrospect wonder fact dissociated time started recently bad damn disconnect hard exercise tips</td>\n",
       "      <td>[]</td>\n",
       "      <td>[yoga, years, tool, help, body, feeling, rough, form, reconnection, went, far, trained, teaching, 200hr, training, trauma, symptoms, peaked, yoga, actually, start, reverse, effect, dissociate, retrospect, wonder, fact, dissociated, time, started, recently, bad, damn, disconnect, hard, exercise, tips]</td>\n",
       "      <td>[yoga, year, tool, help, body, feeling, rough, form, reconnection, went, far, trained, teaching, 200hr, training, trauma, symptom, peaked, yoga, actually, start, reverse, effect, dissociate, retrospect, wonder, fact, dissociated, time, started, recently, bad, damn, disconnect, hard, exercise, tip]</td>\n",
       "      <td>[yoga, year, tool, help, bodi, feel, rough, form, reconnect, went, far, train, teach, 200hr, train, trauma, symptom, peak, yoga, actual, start, revers, effect, dissoci, retrospect, wonder, fact, dissoci, time, start, recent, bad, damn, disconnect, hard, exercis, tip]</td>\n",
       "      <td>0.541667</td>\n",
       "      <td>-0.198333</td>\n",
       "      <td>Negative</td>\n",
       "    </tr>\n",
       "    <tr>\n",
       "      <th>3</th>\n",
       "      <td>CPTSD</td>\n",
       "      <td>The child me thought I made the right choice by listening to him. And he said as much. That I had finally done something right . Especially when they kept blaming me for all the things I did wrong . Anyone else ?</td>\n",
       "      <td>child thought right choice listening said finally right especially kept blaming things wrong</td>\n",
       "      <td>[]</td>\n",
       "      <td>[child, thought, right, choice, listening, said, finally, right, especially, kept, blaming, things, wrong]</td>\n",
       "      <td>[child, thought, right, choice, listening, said, finally, right, especially, kept, blaming, thing, wrong]</td>\n",
       "      <td>[child, thought, right, choic, listen, said, final, right, especi, kept, blame, thing, wrong]</td>\n",
       "      <td>0.742857</td>\n",
       "      <td>0.017857</td>\n",
       "      <td>Positive</td>\n",
       "    </tr>\n",
       "    <tr>\n",
       "      <th>4</th>\n",
       "      <td>CPTSD</td>\n",
       "      <td>Women: What is the real situation of misogyny, patriarchy, sexual abuse and harassment in your country?</td>\n",
       "      <td>women real situation misogyny patriarchy sexual abuse harassment country</td>\n",
       "      <td>[]</td>\n",
       "      <td>[women, real, situation, misogyny, patriarchy, sexual, abuse, harassment, country]</td>\n",
       "      <td>[woman, real, situation, misogyny, patriarchy, sexual, abuse, harassment, country]</td>\n",
       "      <td>[women, real, situat, misogyni, patriarchi, sexual, abus, harass, countri]</td>\n",
       "      <td>0.566667</td>\n",
       "      <td>0.350000</td>\n",
       "      <td>Positive</td>\n",
       "    </tr>\n",
       "    <tr>\n",
       "      <th>...</th>\n",
       "      <td>...</td>\n",
       "      <td>...</td>\n",
       "      <td>...</td>\n",
       "      <td>...</td>\n",
       "      <td>...</td>\n",
       "      <td>...</td>\n",
       "      <td>...</td>\n",
       "      <td>...</td>\n",
       "      <td>...</td>\n",
       "      <td>...</td>\n",
       "    </tr>\n",
       "    <tr>\n",
       "      <th>27673</th>\n",
       "      <td>suicidewatch</td>\n",
       "      <td>But I want help doing it Tired of everyone saying no don't.\\n\\n*Get up so I can punch you again*\\n\\nI'm exhausted I want to clock out and be done everything just keeps getting worse, everything keeps losing value including myself- as if any of that even mattered.\\n\\nFuck the helpline I want real help I want help out</td>\n",
       "      <td>want help tired saying punch exhausted want clock keeps getting worse keeps losing value including mattered fuck helpline want real help want help</td>\n",
       "      <td>[]</td>\n",
       "      <td>[want, help, tired, saying, punch, exhausted, want, clock, keeps, getting, worse, keeps, losing, value, including, mattered, fuck, helpline, want, real, help, want, help]</td>\n",
       "      <td>[want, help, tired, saying, punch, exhausted, want, clock, keep, getting, worse, keep, losing, value, including, mattered, fuck, helpline, want, real, help, want, help]</td>\n",
       "      <td>[want, help, tire, say, punch, exhaust, want, clock, keep, get, wors, keep, lose, valu, includ, matter, fuck, helplin, want, real, help, want, help]</td>\n",
       "      <td>0.580000</td>\n",
       "      <td>-0.280000</td>\n",
       "      <td>Negative</td>\n",
       "    </tr>\n",
       "    <tr>\n",
       "      <th>27674</th>\n",
       "      <td>suicidewatch</td>\n",
       "      <td>Nothing to live for The ONLY reason I am alive right now is because of my sweet cat Pippin. Yesterday was the anniversary of adopting him 2 years ago. \\nI've been really depressed and haven't been able to play with him as much so hes been meowing and being a little naughty as a result. I got so mad yesterday and yelled at him. All I can think about now is how I should give him to someone healt...</td>\n",
       "      <td>live reason alive right sweet cat pippin yesterday anniversary adopting 2 years ago depressed able play hes meowing little naughty result got mad yesterday yelled think healthier stable away live boyfriend hes far away friends spoken mother 17 dad disowned political opinion accomplished wish job guess minimum wage qualifications experience customer service caregiving waste resources hate skin ...</td>\n",
       "      <td>[]</td>\n",
       "      <td>[live, reason, alive, right, sweet, cat, pippin, yesterday, anniversary, adopting, years, ago, depressed, able, play, hes, meowing, little, naughty, result, got, mad, yesterday, yelled, think, healthier, stable, away, live, boyfriend, hes, far, away, friends, spoken, mother, 17, dad, disowned, political, opinion, accomplished, wish, job, guess, minimum, wage, qualifications, experience, custom...</td>\n",
       "      <td>[live, reason, alive, right, sweet, cat, pippin, yesterday, anniversary, adopting, year, ago, depressed, able, play, he, meowing, little, naughty, result, got, mad, yesterday, yelled, think, healthier, stable, away, live, boyfriend, he, far, away, friend, spoken, mother, 17, dad, disowned, political, opinion, accomplished, wish, job, guess, minimum, wage, qualification, experience, customer, s...</td>\n",
       "      <td>[live, reason, aliv, right, sweet, cat, pippin, yesterday, anniversari, adopt, year, ago, depress, abl, play, he, meow, littl, naughti, result, got, mad, yesterday, yell, think, healthier, stabl, away, live, boyfriend, he, far, away, friend, spoken, mother, 17, dad, disown, polit, opinion, accomplish, wish, job, guess, minimum, wage, qualif, experi, custom, servic, caregiv, wast, resourc, hate...</td>\n",
       "      <td>0.574048</td>\n",
       "      <td>0.023063</td>\n",
       "      <td>Positive</td>\n",
       "    </tr>\n",
       "    <tr>\n",
       "      <th>27675</th>\n",
       "      <td>suicidewatch</td>\n",
       "      <td>Iâ€™m going to fucking kill myself 18 years too long. I think Iâ€™m going to go</td>\n",
       "      <td>going fucking kill 18 years long think going</td>\n",
       "      <td>[]</td>\n",
       "      <td>[going, fucking, kill, 18, years, long, think, going]</td>\n",
       "      <td>[going, fucking, kill, 18, year, long, think, going]</td>\n",
       "      <td>[go, fuck, kill, 18, year, long, think, go]</td>\n",
       "      <td>0.600000</td>\n",
       "      <td>-0.325000</td>\n",
       "      <td>Negative</td>\n",
       "    </tr>\n",
       "    <tr>\n",
       "      <th>27676</th>\n",
       "      <td>suicidewatch</td>\n",
       "      <td>Iâ€™m going to pieces All Iâ€™ve done for about a month has been lay in bed. I donâ€™t enjoy anything. Canâ€™t focus on anything. I am terrified of the future. I donâ€™t want to be alive. I am in so much emotional pain. The only reason I am alive is my father because I donâ€™t want to hurt him. That and I canâ€™t decide on a method. I think not wanting to hurt him keeps me from choosing a meth...</td>\n",
       "      <td>going pieces month lay bed enjoy focus terrified future want alive emotional pain reason alive father want hurt decide method think wanting hurt keeps choosing method future father longer think choice end life scared wish sleep wake hate alive</td>\n",
       "      <td>[]</td>\n",
       "      <td>[going, pieces, month, lay, bed, enjoy, focus, terrified, future, want, alive, emotional, pain, reason, alive, father, want, hurt, decide, method, think, wanting, hurt, keeps, choosing, method, future, father, longer, think, choice, end, life, scared, wish, sleep, wake, hate, alive]</td>\n",
       "      <td>[going, piece, month, lay, bed, enjoy, focus, terrified, future, want, alive, emotional, pain, reason, alive, father, want, hurt, decide, method, think, wanting, hurt, keep, choosing, method, future, father, longer, think, choice, end, life, scared, wish, sleep, wake, hate, alive]</td>\n",
       "      <td>[go, piec, month, lay, bed, enjoy, focu, terrifi, futur, want, aliv, emot, pain, reason, aliv, father, want, hurt, decid, method, think, want, hurt, keep, choos, method, futur, father, longer, think, choic, end, life, scare, wish, sleep, wake, hate, aliv]</td>\n",
       "      <td>0.437500</td>\n",
       "      <td>-0.012500</td>\n",
       "      <td>Negative</td>\n",
       "    </tr>\n",
       "    <tr>\n",
       "      <th>27677</th>\n",
       "      <td>suicidewatch</td>\n",
       "      <td>sigh it's been a wild couple of weeks...i'm very tired of living and im tired of hearing it gets better. I thought i was finally reaching the point where it got better for me, but it's all coming crashing down. I'm in a very very low point of my life. \\n\\nI feel like the only option to end this suffering is suicide.\\n\\nI don't know why I'm posting this here. Maybe I just want someone to listen...</td>\n",
       "      <td>sigh wild couple weeksim tired living tired hearing gets better thought finally reaching point got better coming crashing low point life feel like option end suffering suicide know posting maybe want listenmaybe want know hurting finally ended thank reading sorry inconvenience</td>\n",
       "      <td>[]</td>\n",
       "      <td>[sigh, wild, couple, weeksim, tired, living, tired, hearing, gets, better, thought, finally, reaching, point, got, better, coming, crashing, low, point, life, feel, like, option, end, suffering, suicide, know, posting, maybe, want, listenmaybe, want, know, hurting, finally, ended, thank, reading, sorry, inconvenience]</td>\n",
       "      <td>[sigh, wild, couple, weeksim, tired, living, tired, hearing, get, better, thought, finally, reaching, point, got, better, coming, crashing, low, point, life, feel, like, option, end, suffering, suicide, know, posting, maybe, want, listenmaybe, want, know, hurting, finally, ended, thank, reading, sorry, inconvenience]</td>\n",
       "      <td>[sigh, wild, coupl, weeksim, tire, live, tire, hear, get, better, thought, final, reach, point, got, better, come, crash, low, point, life, feel, like, option, end, suffer, suicid, know, post, mayb, want, listenmayb, want, know, hurt, final, end, thank, read, sorri, inconveni]</td>\n",
       "      <td>0.677778</td>\n",
       "      <td>-0.022222</td>\n",
       "      <td>Negative</td>\n",
       "    </tr>\n",
       "  </tbody>\n",
       "</table>\n",
       "<p>27666 rows × 10 columns</p>\n",
       "</div>"
      ],
      "text/plain": [
       "          Subreddit  \\\n",
       "0             CPTSD   \n",
       "1             CPTSD   \n",
       "2             CPTSD   \n",
       "3             CPTSD   \n",
       "4             CPTSD   \n",
       "...             ...   \n",
       "27673  suicidewatch   \n",
       "27674  suicidewatch   \n",
       "27675  suicidewatch   \n",
       "27676  suicidewatch   \n",
       "27677  suicidewatch   \n",
       "\n",
       "                                                                                                                                                                                                                                                                                                                                                                                                           reddit_post  \\\n",
       "0      I don't know if it was the emotional neglect, the psychological abuse, medical abuse, bullying, the CSA, whatever. I'm a mess right now. I feel like a horrible monster that somewhat a lot of people see as attractive, but under the facade I'm still a monster.  As if I was someone who was built for being unlovable and despised, physically and emotionally, since I was born. I keep working and wor...   \n",
       "1      See title.\\n\\nI used to be the person full of hobbies (biking, drawing, reading, writing, walking, gaming) who really disliked people who never knew what to do with their free time and would be clingy. Now I am one of them.\\n\\nThrough years of hard depression and su.c.dal.ty thanks to cptsd I have stopped all my hobbies. I entrench myself in work and by now also meeting people and sometimes ob...   \n",
       "2      I was doing yoga for years as a tool to help me back into my body when I was feeling rough as a form of reconnection. I even went as far as becoming trained in teaching, doing a 200hr training. As my trauma symptoms peaked however yoga would actually start having the reverse effect and would dissociate me. (In retrospect I wonder if I was in fact being dissociated the whole time.)\\n\\nStarted a...   \n",
       "3                                                                                                                                                                                                 The child me thought I made the right choice by listening to him. And he said as much. That I had finally done something right . Especially when they kept blaming me for all the things I did wrong . Anyone else ?   \n",
       "4                                                                                                                                                                                                                                                                                                              Women: What is the real situation of misogyny, patriarchy, sexual abuse and harassment in your country?   \n",
       "...                                                                                                                                                                                                                                                                                                                                                                                                                ...   \n",
       "27673                                                                                    But I want help doing it Tired of everyone saying no don't.\\n\\n*Get up so I can punch you again*\\n\\nI'm exhausted I want to clock out and be done everything just keeps getting worse, everything keeps losing value including myself- as if any of that even mattered.\\n\\nFuck the helpline I want real help I want help out   \n",
       "27674  Nothing to live for The ONLY reason I am alive right now is because of my sweet cat Pippin. Yesterday was the anniversary of adopting him 2 years ago. \\nI've been really depressed and haven't been able to play with him as much so hes been meowing and being a little naughty as a result. I got so mad yesterday and yelled at him. All I can think about now is how I should give him to someone healt...   \n",
       "27675                                                                                                                                                                                                                                                                                                                                  Iâ€™m going to fucking kill myself 18 years too long. I think Iâ€™m going to go   \n",
       "27676  Iâ€™m going to pieces All Iâ€™ve done for about a month has been lay in bed. I donâ€™t enjoy anything. Canâ€™t focus on anything. I am terrified of the future. I donâ€™t want to be alive. I am in so much emotional pain. The only reason I am alive is my father because I donâ€™t want to hurt him. That and I canâ€™t decide on a method. I think not wanting to hurt him keeps me from choosing a meth...   \n",
       "27677  sigh it's been a wild couple of weeks...i'm very tired of living and im tired of hearing it gets better. I thought i was finally reaching the point where it got better for me, but it's all coming crashing down. I'm in a very very low point of my life. \\n\\nI feel like the only option to end this suffering is suicide.\\n\\nI don't know why I'm posting this here. Maybe I just want someone to listen...   \n",
       "\n",
       "                                                                                                                                                                                                                                                                                                                                                                                                            clean_post  \\\n",
       "0                                                                                                                                                                        know emotional neglect psychological abuse medical abuse bullying csa mess right feel like horrible monster somewhat lot people attractive facade monster built unlovable despised physically emotionally born working working feel fit world   \n",
       "1      title person hobbies biking drawing reading writing walking gaming disliked people knew free time clingy years hard depression sucdalty thanks cptsd stopped hobbies entrench work meeting people obligatory projects like drivers license extent leaves free time free time lie couch think pity hate lot way watch netflix hours doom scroll reddit waste time browsing internet try sleep lot better inte...   \n",
       "2                                                                                                                                              yoga years tool help body feeling rough form reconnection went far trained teaching 200hr training trauma symptoms peaked yoga actually start reverse effect dissociate retrospect wonder fact dissociated time started recently bad damn disconnect hard exercise tips   \n",
       "3                                                                                                                                                                                                                                                                                                                         child thought right choice listening said finally right especially kept blaming things wrong   \n",
       "4                                                                                                                                                                                                                                                                                                                                             women real situation misogyny patriarchy sexual abuse harassment country   \n",
       "...                                                                                                                                                                                                                                                                                                                                                                                                                ...   \n",
       "27673                                                                                                                                                                                                                                                               want help tired saying punch exhausted want clock keeps getting worse keeps losing value including mattered fuck helpline want real help want help   \n",
       "27674  live reason alive right sweet cat pippin yesterday anniversary adopting 2 years ago depressed able play hes meowing little naughty result got mad yesterday yelled think healthier stable away live boyfriend hes far away friends spoken mother 17 dad disowned political opinion accomplished wish job guess minimum wage qualifications experience customer service caregiving waste resources hate skin ...   \n",
       "27675                                                                                                                                                                                                                                                                                                                                                                     going fucking kill 18 years long think going   \n",
       "27676                                                                                                                                                              going pieces month lay bed enjoy focus terrified future want alive emotional pain reason alive father want hurt decide method think wanting hurt keeps choosing method future father longer think choice end life scared wish sleep wake hate alive   \n",
       "27677                                                                                                                            sigh wild couple weeksim tired living tired hearing gets better thought finally reaching point got better coming crashing low point life feel like option end suffering suicide know posting maybe want listenmaybe want know hurting finally ended thank reading sorry inconvenience   \n",
       "\n",
       "      urls  \\\n",
       "0       []   \n",
       "1       []   \n",
       "2       []   \n",
       "3       []   \n",
       "4       []   \n",
       "...    ...   \n",
       "27673   []   \n",
       "27674   []   \n",
       "27675   []   \n",
       "27676   []   \n",
       "27677   []   \n",
       "\n",
       "                                                                                                                                                                                                                                                                                                                                                                                                     preprocessed_post  \\\n",
       "0                                                                                                                                       [know, emotional, neglect, psychological, abuse, medical, abuse, bullying, csa, mess, right, feel, like, horrible, monster, somewhat, lot, people, attractive, facade, monster, built, unlovable, despised, physically, emotionally, born, working, working, feel, fit, world]   \n",
       "1      [title, person, hobbies, biking, drawing, reading, writing, walking, gaming, disliked, people, knew, free, time, clingy, years, hard, depression, sucdalty, thanks, cptsd, stopped, hobbies, entrench, work, meeting, people, obligatory, projects, like, drivers, license, extent, leaves, free, time, free, time, lie, couch, think, pity, hate, lot, way, watch, netflix, hours, doom, scroll, reddit, wa...   \n",
       "2                                                                                                        [yoga, years, tool, help, body, feeling, rough, form, reconnection, went, far, trained, teaching, 200hr, training, trauma, symptoms, peaked, yoga, actually, start, reverse, effect, dissociate, retrospect, wonder, fact, dissociated, time, started, recently, bad, damn, disconnect, hard, exercise, tips]   \n",
       "3                                                                                                                                                                                                                                                                                                           [child, thought, right, choice, listening, said, finally, right, especially, kept, blaming, things, wrong]   \n",
       "4                                                                                                                                                                                                                                                                                                                                   [women, real, situation, misogyny, patriarchy, sexual, abuse, harassment, country]   \n",
       "...                                                                                                                                                                                                                                                                                                                                                                                                                ...   \n",
       "27673                                                                                                                                                                                                                                       [want, help, tired, saying, punch, exhausted, want, clock, keeps, getting, worse, keeps, losing, value, including, mattered, fuck, helpline, want, real, help, want, help]   \n",
       "27674  [live, reason, alive, right, sweet, cat, pippin, yesterday, anniversary, adopting, years, ago, depressed, able, play, hes, meowing, little, naughty, result, got, mad, yesterday, yelled, think, healthier, stable, away, live, boyfriend, hes, far, away, friends, spoken, mother, 17, dad, disowned, political, opinion, accomplished, wish, job, guess, minimum, wage, qualifications, experience, custom...   \n",
       "27675                                                                                                                                                                                                                                                                                                                                                            [going, fucking, kill, 18, years, long, think, going]   \n",
       "27676                                                                                                                      [going, pieces, month, lay, bed, enjoy, focus, terrified, future, want, alive, emotional, pain, reason, alive, father, want, hurt, decide, method, think, wanting, hurt, keeps, choosing, method, future, father, longer, think, choice, end, life, scared, wish, sleep, wake, hate, alive]   \n",
       "27677                                                                                  [sigh, wild, couple, weeksim, tired, living, tired, hearing, gets, better, thought, finally, reaching, point, got, better, coming, crashing, low, point, life, feel, like, option, end, suffering, suicide, know, posting, maybe, want, listenmaybe, want, know, hurting, finally, ended, thank, reading, sorry, inconvenience]   \n",
       "\n",
       "                                                                                                                                                                                                                                                                                                                                                                                               lemma_preprocessed_post  \\\n",
       "0                                                                                                                                       [know, emotional, neglect, psychological, abuse, medical, abuse, bullying, csa, mess, right, feel, like, horrible, monster, somewhat, lot, people, attractive, facade, monster, built, unlovable, despised, physically, emotionally, born, working, working, feel, fit, world]   \n",
       "1      [title, person, hobby, biking, drawing, reading, writing, walking, gaming, disliked, people, knew, free, time, clingy, year, hard, depression, sucdalty, thanks, cptsd, stopped, hobby, entrench, work, meeting, people, obligatory, project, like, driver, license, extent, leaf, free, time, free, time, lie, couch, think, pity, hate, lot, way, watch, netflix, hour, doom, scroll, reddit, waste, time,...   \n",
       "2                                                                                                           [yoga, year, tool, help, body, feeling, rough, form, reconnection, went, far, trained, teaching, 200hr, training, trauma, symptom, peaked, yoga, actually, start, reverse, effect, dissociate, retrospect, wonder, fact, dissociated, time, started, recently, bad, damn, disconnect, hard, exercise, tip]   \n",
       "3                                                                                                                                                                                                                                                                                                            [child, thought, right, choice, listening, said, finally, right, especially, kept, blaming, thing, wrong]   \n",
       "4                                                                                                                                                                                                                                                                                                                                   [woman, real, situation, misogyny, patriarchy, sexual, abuse, harassment, country]   \n",
       "...                                                                                                                                                                                                                                                                                                                                                                                                                ...   \n",
       "27673                                                                                                                                                                                                                                         [want, help, tired, saying, punch, exhausted, want, clock, keep, getting, worse, keep, losing, value, including, mattered, fuck, helpline, want, real, help, want, help]   \n",
       "27674  [live, reason, alive, right, sweet, cat, pippin, yesterday, anniversary, adopting, year, ago, depressed, able, play, he, meowing, little, naughty, result, got, mad, yesterday, yelled, think, healthier, stable, away, live, boyfriend, he, far, away, friend, spoken, mother, 17, dad, disowned, political, opinion, accomplished, wish, job, guess, minimum, wage, qualification, experience, customer, s...   \n",
       "27675                                                                                                                                                                                                                                                                                                                                                             [going, fucking, kill, 18, year, long, think, going]   \n",
       "27676                                                                                                                        [going, piece, month, lay, bed, enjoy, focus, terrified, future, want, alive, emotional, pain, reason, alive, father, want, hurt, decide, method, think, wanting, hurt, keep, choosing, method, future, father, longer, think, choice, end, life, scared, wish, sleep, wake, hate, alive]   \n",
       "27677                                                                                   [sigh, wild, couple, weeksim, tired, living, tired, hearing, get, better, thought, finally, reaching, point, got, better, coming, crashing, low, point, life, feel, like, option, end, suffering, suicide, know, posting, maybe, want, listenmaybe, want, know, hurting, finally, ended, thank, reading, sorry, inconvenience]   \n",
       "\n",
       "                                                                                                                                                                                                                                                                                                                                                                                              stemma_preprocessed_post  \\\n",
       "0                                                                                                                                                                                    [know, emot, neglect, psycholog, abus, medic, abus, bulli, csa, mess, right, feel, like, horribl, monster, somewhat, lot, peopl, attract, facad, monster, built, unlov, despis, physic, emot, born, work, work, feel, fit, world]   \n",
       "1      [titl, person, hobbi, bike, draw, read, write, walk, game, dislik, peopl, knew, free, time, clingi, year, hard, depress, sucdalti, thank, cptsd, stop, hobbi, entrench, work, meet, peopl, obligatori, project, like, driver, licens, extent, leav, free, time, free, time, lie, couch, think, piti, hate, lot, way, watch, netflix, hour, doom, scroll, reddit, wast, time, brows, internet, tri, sleep, lo...   \n",
       "2                                                                                                                                          [yoga, year, tool, help, bodi, feel, rough, form, reconnect, went, far, train, teach, 200hr, train, trauma, symptom, peak, yoga, actual, start, revers, effect, dissoci, retrospect, wonder, fact, dissoci, time, start, recent, bad, damn, disconnect, hard, exercis, tip]   \n",
       "3                                                                                                                                                                                                                                                                                                                        [child, thought, right, choic, listen, said, final, right, especi, kept, blame, thing, wrong]   \n",
       "4                                                                                                                                                                                                                                                                                                                                           [women, real, situat, misogyni, patriarchi, sexual, abus, harass, countri]   \n",
       "...                                                                                                                                                                                                                                                                                                                                                                                                                ...   \n",
       "27673                                                                                                                                                                                                                                                             [want, help, tire, say, punch, exhaust, want, clock, keep, get, wors, keep, lose, valu, includ, matter, fuck, helplin, want, real, help, want, help]   \n",
       "27674  [live, reason, aliv, right, sweet, cat, pippin, yesterday, anniversari, adopt, year, ago, depress, abl, play, he, meow, littl, naughti, result, got, mad, yesterday, yell, think, healthier, stabl, away, live, boyfriend, he, far, away, friend, spoken, mother, 17, dad, disown, polit, opinion, accomplish, wish, job, guess, minimum, wage, qualif, experi, custom, servic, caregiv, wast, resourc, hate...   \n",
       "27675                                                                                                                                                                                                                                                                                                                                                                      [go, fuck, kill, 18, year, long, think, go]   \n",
       "27676                                                                                                                                                  [go, piec, month, lay, bed, enjoy, focu, terrifi, futur, want, aliv, emot, pain, reason, aliv, father, want, hurt, decid, method, think, want, hurt, keep, choos, method, futur, father, longer, think, choic, end, life, scare, wish, sleep, wake, hate, aliv]   \n",
       "27677                                                                                                                            [sigh, wild, coupl, weeksim, tire, live, tire, hear, get, better, thought, final, reach, point, got, better, come, crash, low, point, life, feel, like, option, end, suffer, suicid, know, post, mayb, want, listenmayb, want, know, hurt, final, end, thank, read, sorri, inconveni]   \n",
       "\n",
       "       Subjectivity  Polarity sentiment  \n",
       "0          0.501190  0.034524  Positive  \n",
       "1          0.528098  0.004550  Positive  \n",
       "2          0.541667 -0.198333  Negative  \n",
       "3          0.742857  0.017857  Positive  \n",
       "4          0.566667  0.350000  Positive  \n",
       "...             ...       ...       ...  \n",
       "27673      0.580000 -0.280000  Negative  \n",
       "27674      0.574048  0.023063  Positive  \n",
       "27675      0.600000 -0.325000  Negative  \n",
       "27676      0.437500 -0.012500  Negative  \n",
       "27677      0.677778 -0.022222  Negative  \n",
       "\n",
       "[27666 rows x 10 columns]"
      ]
     },
     "execution_count": 48,
     "metadata": {},
     "output_type": "execute_result"
    }
   ],
   "source": [
    "df"
   ]
  },
  {
   "cell_type": "code",
   "execution_count": 49,
   "metadata": {},
   "outputs": [
    {
     "data": {
      "text/plain": [
       "0                                                                                                                                         [know, emotional, neglect, psychological, abuse, medical, abuse, bullying, csa, mess, right, feel, like, horrible, monster, somewhat, lot, people, attractive, facade, monster, built, unlovable, despised, physically, emotionally, born, working, working, feel, fit, world]\n",
       "1        [title, person, hobbies, biking, drawing, reading, writing, walking, gaming, disliked, people, knew, free, time, clingy, years, hard, depression, sucdalty, thanks, cptsd, stopped, hobbies, entrench, work, meeting, people, obligatory, projects, like, drivers, license, extent, leaves, free, time, free, time, lie, couch, think, pity, hate, lot, way, watch, netflix, hours, doom, scroll, reddit, wa...\n",
       "2                                                                                                          [yoga, years, tool, help, body, feeling, rough, form, reconnection, went, far, trained, teaching, 200hr, training, trauma, symptoms, peaked, yoga, actually, start, reverse, effect, dissociate, retrospect, wonder, fact, dissociated, time, started, recently, bad, damn, disconnect, hard, exercise, tips]\n",
       "3                                                                                                                                                                                                                                                                                                             [child, thought, right, choice, listening, said, finally, right, especially, kept, blaming, things, wrong]\n",
       "4                                                                                                                                                                                                                                                                                                                                     [women, real, situation, misogyny, patriarchy, sexual, abuse, harassment, country]\n",
       "                                                                                                                                                                                                              ...                                                                                                                                                                                                       \n",
       "27673                                                                                                                                                                                                                                         [want, help, tired, saying, punch, exhausted, want, clock, keeps, getting, worse, keeps, losing, value, including, mattered, fuck, helpline, want, real, help, want, help]\n",
       "27674    [live, reason, alive, right, sweet, cat, pippin, yesterday, anniversary, adopting, years, ago, depressed, able, play, hes, meowing, little, naughty, result, got, mad, yesterday, yelled, think, healthier, stable, away, live, boyfriend, hes, far, away, friends, spoken, mother, 17, dad, disowned, political, opinion, accomplished, wish, job, guess, minimum, wage, qualifications, experience, custom...\n",
       "27675                                                                                                                                                                                                                                                                                                                                                              [going, fucking, kill, 18, years, long, think, going]\n",
       "27676                                                                                                                        [going, pieces, month, lay, bed, enjoy, focus, terrified, future, want, alive, emotional, pain, reason, alive, father, want, hurt, decide, method, think, wanting, hurt, keeps, choosing, method, future, father, longer, think, choice, end, life, scared, wish, sleep, wake, hate, alive]\n",
       "27677                                                                                    [sigh, wild, couple, weeksim, tired, living, tired, hearing, gets, better, thought, finally, reaching, point, got, better, coming, crashing, low, point, life, feel, like, option, end, suffering, suicide, know, posting, maybe, want, listenmaybe, want, know, hurting, finally, ended, thank, reading, sorry, inconvenience]\n",
       "Name: preprocessed_post, Length: 27666, dtype: object"
      ]
     },
     "execution_count": 49,
     "metadata": {},
     "output_type": "execute_result"
    }
   ],
   "source": [
    "df['preprocessed_post']"
   ]
  },
  {
   "cell_type": "code",
   "execution_count": 50,
   "metadata": {},
   "outputs": [],
   "source": [
    "df['lemma_preprocessed_post'] = df['lemma_preprocessed_post'].apply(lambda x: ' '.join(x))"
   ]
  },
  {
   "cell_type": "code",
   "execution_count": 51,
   "metadata": {},
   "outputs": [],
   "source": [
    "df['stemma_preprocessed_post'] = df['stemma_preprocessed_post'].apply(lambda x: ' '.join(x))\n",
    "\n",
    "df['preprocessed_post'] = df['preprocessed_post'].apply(lambda x: ' '.join(x))"
   ]
  },
  {
   "cell_type": "code",
   "execution_count": 52,
   "metadata": {},
   "outputs": [
    {
     "data": {
      "text/plain": [
       "0                                                                                                                                                                          know emotional neglect psychological abuse medical abuse bullying csa mess right feel like horrible monster somewhat lot people attractive facade monster built unlovable despised physically emotionally born working working feel fit world\n",
       "1        title person hobbies biking drawing reading writing walking gaming disliked people knew free time clingy years hard depression sucdalty thanks cptsd stopped hobbies entrench work meeting people obligatory projects like drivers license extent leaves free time free time lie couch think pity hate lot way watch netflix hours doom scroll reddit waste time browsing internet try sleep lot better inte...\n",
       "2                                                                                                                                                yoga years tool help body feeling rough form reconnection went far trained teaching 200hr training trauma symptoms peaked yoga actually start reverse effect dissociate retrospect wonder fact dissociated time started recently bad damn disconnect hard exercise tips\n",
       "3                                                                                                                                                                                                                                                                                                                           child thought right choice listening said finally right especially kept blaming things wrong\n",
       "4                                                                                                                                                                                                                                                                                                                                               women real situation misogyny patriarchy sexual abuse harassment country\n",
       "                                                                                                                                                                                                              ...                                                                                                                                                                                                       \n",
       "27673                                                                                                                                                                                                                                                                 want help tired saying punch exhausted want clock keeps getting worse keeps losing value including mattered fuck helpline want real help want help\n",
       "27674    live reason alive right sweet cat pippin yesterday anniversary adopting years ago depressed able play hes meowing little naughty result got mad yesterday yelled think healthier stable away live boyfriend hes far away friends spoken mother 17 dad disowned political opinion accomplished wish job guess minimum wage qualifications experience customer service caregiving waste resources hate skin re...\n",
       "27675                                                                                                                                                                                                                                                                                                                                                                       going fucking kill 18 years long think going\n",
       "27676                                                                                                                                                                going pieces month lay bed enjoy focus terrified future want alive emotional pain reason alive father want hurt decide method think wanting hurt keeps choosing method future father longer think choice end life scared wish sleep wake hate alive\n",
       "27677                                                                                                                              sigh wild couple weeksim tired living tired hearing gets better thought finally reaching point got better coming crashing low point life feel like option end suffering suicide know posting maybe want listenmaybe want know hurting finally ended thank reading sorry inconvenience\n",
       "Name: preprocessed_post, Length: 27666, dtype: object"
      ]
     },
     "execution_count": 52,
     "metadata": {},
     "output_type": "execute_result"
    }
   ],
   "source": [
    "df['preprocessed_post']"
   ]
  },
  {
   "cell_type": "code",
   "execution_count": 53,
   "metadata": {},
   "outputs": [
    {
     "name": "stdout",
     "output_type": "stream",
     "text": [
      "<class 'pandas.core.frame.DataFrame'>\n",
      "Int64Index: 27666 entries, 0 to 27677\n",
      "Data columns (total 10 columns):\n",
      " #   Column                    Non-Null Count  Dtype  \n",
      "---  ------                    --------------  -----  \n",
      " 0   Subreddit                 27666 non-null  object \n",
      " 1   reddit_post               27666 non-null  object \n",
      " 2   clean_post                27666 non-null  object \n",
      " 3   urls                      27666 non-null  object \n",
      " 4   preprocessed_post         27666 non-null  object \n",
      " 5   lemma_preprocessed_post   27666 non-null  object \n",
      " 6   stemma_preprocessed_post  27666 non-null  object \n",
      " 7   Subjectivity              27666 non-null  float64\n",
      " 8   Polarity                  27666 non-null  float64\n",
      " 9   sentiment                 27666 non-null  object \n",
      "dtypes: float64(2), object(8)\n",
      "memory usage: 3.6+ MB\n"
     ]
    }
   ],
   "source": [
    "df.info()"
   ]
  },
  {
   "cell_type": "code",
   "execution_count": 54,
   "metadata": {},
   "outputs": [],
   "source": [
    "# save the dataframe to csv using the name 'interim_data.csv' fo the data folder\n",
    "# df.to_csv('interim_data.csv', index=False)"
   ]
  }
 ],
 "metadata": {
  "kernelspec": {
   "display_name": "Python 3",
   "language": "python",
   "name": "python3"
  },
  "language_info": {
   "codemirror_mode": {
    "name": "ipython",
    "version": 3
   },
   "file_extension": ".py",
   "mimetype": "text/x-python",
   "name": "python",
   "nbconvert_exporter": "python",
   "pygments_lexer": "ipython3",
   "version": "3.8.5"
  }
 },
 "nbformat": 4,
 "nbformat_minor": 2
}
